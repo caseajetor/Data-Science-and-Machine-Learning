{
 "cells": [
  {
   "cell_type": "code",
   "execution_count": 1,
   "id": "78347d7e",
   "metadata": {
    "_cell_guid": "b1076dfc-b9ad-4769-8c92-a6c4dae69d19",
    "_uuid": "8f2839f25d086af736a60e9eeb907d3b93b6e0e5",
    "execution": {
     "iopub.execute_input": "2022-09-16T23:36:26.891340Z",
     "iopub.status.busy": "2022-09-16T23:36:26.889769Z",
     "iopub.status.idle": "2022-09-16T23:36:26.903518Z",
     "shell.execute_reply": "2022-09-16T23:36:26.902351Z"
    },
    "papermill": {
     "duration": 0.026664,
     "end_time": "2022-09-16T23:36:26.906020",
     "exception": false,
     "start_time": "2022-09-16T23:36:26.879356",
     "status": "completed"
    },
    "tags": []
   },
   "outputs": [
    {
     "name": "stdout",
     "output_type": "stream",
     "text": [
      "/kaggle/input/titanic/train.csv\n",
      "/kaggle/input/titanic/test.csv\n",
      "/kaggle/input/titanic/gender_submission.csv\n"
     ]
    }
   ],
   "source": [
    "# This Python 3 environment comes with many helpful analytics libraries installed\n",
    "# It is defined by the kaggle/python Docker image: https://github.com/kaggle/docker-python\n",
    "# For example, here's several helpful packages to load\n",
    "\n",
    "import numpy as np # linear algebra\n",
    "import pandas as pd # data processing, CSV file I/O (e.g. pd.read_csv)\n",
    "\n",
    "# Input data files are available in the read-only \"../input/\" directory\n",
    "# For example, running this (by clicking run or pressing Shift+Enter) will list all files under the input directory\n",
    "\n",
    "import os\n",
    "for dirname, _, filenames in os.walk('/kaggle/input'):\n",
    "    for filename in filenames:\n",
    "        print(os.path.join(dirname, filename))\n",
    "\n",
    "# You can write up to 20GB to the current directory (/kaggle/working/) that gets preserved as output when you create a version using \"Save & Run All\" \n",
    "# You can also write temporary files to /kaggle/temp/, but they won't be saved outside of the current session"
   ]
  },
  {
   "cell_type": "code",
   "execution_count": 2,
   "id": "fa2c5dff",
   "metadata": {
    "execution": {
     "iopub.execute_input": "2022-09-16T23:36:26.923996Z",
     "iopub.status.busy": "2022-09-16T23:36:26.923675Z",
     "iopub.status.idle": "2022-09-16T23:36:27.972779Z",
     "shell.execute_reply": "2022-09-16T23:36:27.971392Z"
    },
    "papermill": {
     "duration": 1.060186,
     "end_time": "2022-09-16T23:36:27.975189",
     "exception": false,
     "start_time": "2022-09-16T23:36:26.915003",
     "status": "completed"
    },
    "tags": []
   },
   "outputs": [],
   "source": [
    "import pandas as pd\n",
    "import numpy as np\n",
    "import seaborn as sns\n",
    "import matplotlib.pyplot as plt\n",
    "%matplotlib inline"
   ]
  },
  {
   "cell_type": "code",
   "execution_count": 3,
   "id": "9e1f5bdb",
   "metadata": {
    "execution": {
     "iopub.execute_input": "2022-09-16T23:36:27.992569Z",
     "iopub.status.busy": "2022-09-16T23:36:27.992201Z",
     "iopub.status.idle": "2022-09-16T23:36:28.051337Z",
     "shell.execute_reply": "2022-09-16T23:36:28.049592Z"
    },
    "papermill": {
     "duration": 0.070183,
     "end_time": "2022-09-16T23:36:28.053423",
     "exception": false,
     "start_time": "2022-09-16T23:36:27.983240",
     "status": "completed"
    },
    "tags": []
   },
   "outputs": [
    {
     "data": {
      "text/html": [
       "<div>\n",
       "<style scoped>\n",
       "    .dataframe tbody tr th:only-of-type {\n",
       "        vertical-align: middle;\n",
       "    }\n",
       "\n",
       "    .dataframe tbody tr th {\n",
       "        vertical-align: top;\n",
       "    }\n",
       "\n",
       "    .dataframe thead th {\n",
       "        text-align: right;\n",
       "    }\n",
       "</style>\n",
       "<table border=\"1\" class=\"dataframe\">\n",
       "  <thead>\n",
       "    <tr style=\"text-align: right;\">\n",
       "      <th></th>\n",
       "      <th>PassengerId</th>\n",
       "      <th>Survived</th>\n",
       "      <th>Pclass</th>\n",
       "      <th>Name</th>\n",
       "      <th>Sex</th>\n",
       "      <th>Age</th>\n",
       "      <th>SibSp</th>\n",
       "      <th>Parch</th>\n",
       "      <th>Ticket</th>\n",
       "      <th>Fare</th>\n",
       "      <th>Cabin</th>\n",
       "      <th>Embarked</th>\n",
       "    </tr>\n",
       "  </thead>\n",
       "  <tbody>\n",
       "    <tr>\n",
       "      <th>0</th>\n",
       "      <td>1</td>\n",
       "      <td>0</td>\n",
       "      <td>3</td>\n",
       "      <td>Braund, Mr. Owen Harris</td>\n",
       "      <td>male</td>\n",
       "      <td>22.0</td>\n",
       "      <td>1</td>\n",
       "      <td>0</td>\n",
       "      <td>A/5 21171</td>\n",
       "      <td>7.2500</td>\n",
       "      <td>NaN</td>\n",
       "      <td>S</td>\n",
       "    </tr>\n",
       "    <tr>\n",
       "      <th>1</th>\n",
       "      <td>2</td>\n",
       "      <td>1</td>\n",
       "      <td>1</td>\n",
       "      <td>Cumings, Mrs. John Bradley (Florence Briggs Th...</td>\n",
       "      <td>female</td>\n",
       "      <td>38.0</td>\n",
       "      <td>1</td>\n",
       "      <td>0</td>\n",
       "      <td>PC 17599</td>\n",
       "      <td>71.2833</td>\n",
       "      <td>C85</td>\n",
       "      <td>C</td>\n",
       "    </tr>\n",
       "    <tr>\n",
       "      <th>2</th>\n",
       "      <td>3</td>\n",
       "      <td>1</td>\n",
       "      <td>3</td>\n",
       "      <td>Heikkinen, Miss. Laina</td>\n",
       "      <td>female</td>\n",
       "      <td>26.0</td>\n",
       "      <td>0</td>\n",
       "      <td>0</td>\n",
       "      <td>STON/O2. 3101282</td>\n",
       "      <td>7.9250</td>\n",
       "      <td>NaN</td>\n",
       "      <td>S</td>\n",
       "    </tr>\n",
       "    <tr>\n",
       "      <th>3</th>\n",
       "      <td>4</td>\n",
       "      <td>1</td>\n",
       "      <td>1</td>\n",
       "      <td>Futrelle, Mrs. Jacques Heath (Lily May Peel)</td>\n",
       "      <td>female</td>\n",
       "      <td>35.0</td>\n",
       "      <td>1</td>\n",
       "      <td>0</td>\n",
       "      <td>113803</td>\n",
       "      <td>53.1000</td>\n",
       "      <td>C123</td>\n",
       "      <td>S</td>\n",
       "    </tr>\n",
       "    <tr>\n",
       "      <th>4</th>\n",
       "      <td>5</td>\n",
       "      <td>0</td>\n",
       "      <td>3</td>\n",
       "      <td>Allen, Mr. William Henry</td>\n",
       "      <td>male</td>\n",
       "      <td>35.0</td>\n",
       "      <td>0</td>\n",
       "      <td>0</td>\n",
       "      <td>373450</td>\n",
       "      <td>8.0500</td>\n",
       "      <td>NaN</td>\n",
       "      <td>S</td>\n",
       "    </tr>\n",
       "    <tr>\n",
       "      <th>...</th>\n",
       "      <td>...</td>\n",
       "      <td>...</td>\n",
       "      <td>...</td>\n",
       "      <td>...</td>\n",
       "      <td>...</td>\n",
       "      <td>...</td>\n",
       "      <td>...</td>\n",
       "      <td>...</td>\n",
       "      <td>...</td>\n",
       "      <td>...</td>\n",
       "      <td>...</td>\n",
       "      <td>...</td>\n",
       "    </tr>\n",
       "    <tr>\n",
       "      <th>886</th>\n",
       "      <td>887</td>\n",
       "      <td>0</td>\n",
       "      <td>2</td>\n",
       "      <td>Montvila, Rev. Juozas</td>\n",
       "      <td>male</td>\n",
       "      <td>27.0</td>\n",
       "      <td>0</td>\n",
       "      <td>0</td>\n",
       "      <td>211536</td>\n",
       "      <td>13.0000</td>\n",
       "      <td>NaN</td>\n",
       "      <td>S</td>\n",
       "    </tr>\n",
       "    <tr>\n",
       "      <th>887</th>\n",
       "      <td>888</td>\n",
       "      <td>1</td>\n",
       "      <td>1</td>\n",
       "      <td>Graham, Miss. Margaret Edith</td>\n",
       "      <td>female</td>\n",
       "      <td>19.0</td>\n",
       "      <td>0</td>\n",
       "      <td>0</td>\n",
       "      <td>112053</td>\n",
       "      <td>30.0000</td>\n",
       "      <td>B42</td>\n",
       "      <td>S</td>\n",
       "    </tr>\n",
       "    <tr>\n",
       "      <th>888</th>\n",
       "      <td>889</td>\n",
       "      <td>0</td>\n",
       "      <td>3</td>\n",
       "      <td>Johnston, Miss. Catherine Helen \"Carrie\"</td>\n",
       "      <td>female</td>\n",
       "      <td>NaN</td>\n",
       "      <td>1</td>\n",
       "      <td>2</td>\n",
       "      <td>W./C. 6607</td>\n",
       "      <td>23.4500</td>\n",
       "      <td>NaN</td>\n",
       "      <td>S</td>\n",
       "    </tr>\n",
       "    <tr>\n",
       "      <th>889</th>\n",
       "      <td>890</td>\n",
       "      <td>1</td>\n",
       "      <td>1</td>\n",
       "      <td>Behr, Mr. Karl Howell</td>\n",
       "      <td>male</td>\n",
       "      <td>26.0</td>\n",
       "      <td>0</td>\n",
       "      <td>0</td>\n",
       "      <td>111369</td>\n",
       "      <td>30.0000</td>\n",
       "      <td>C148</td>\n",
       "      <td>C</td>\n",
       "    </tr>\n",
       "    <tr>\n",
       "      <th>890</th>\n",
       "      <td>891</td>\n",
       "      <td>0</td>\n",
       "      <td>3</td>\n",
       "      <td>Dooley, Mr. Patrick</td>\n",
       "      <td>male</td>\n",
       "      <td>32.0</td>\n",
       "      <td>0</td>\n",
       "      <td>0</td>\n",
       "      <td>370376</td>\n",
       "      <td>7.7500</td>\n",
       "      <td>NaN</td>\n",
       "      <td>Q</td>\n",
       "    </tr>\n",
       "  </tbody>\n",
       "</table>\n",
       "<p>891 rows × 12 columns</p>\n",
       "</div>"
      ],
      "text/plain": [
       "     PassengerId  Survived  Pclass  \\\n",
       "0              1         0       3   \n",
       "1              2         1       1   \n",
       "2              3         1       3   \n",
       "3              4         1       1   \n",
       "4              5         0       3   \n",
       "..           ...       ...     ...   \n",
       "886          887         0       2   \n",
       "887          888         1       1   \n",
       "888          889         0       3   \n",
       "889          890         1       1   \n",
       "890          891         0       3   \n",
       "\n",
       "                                                  Name     Sex   Age  SibSp  \\\n",
       "0                              Braund, Mr. Owen Harris    male  22.0      1   \n",
       "1    Cumings, Mrs. John Bradley (Florence Briggs Th...  female  38.0      1   \n",
       "2                               Heikkinen, Miss. Laina  female  26.0      0   \n",
       "3         Futrelle, Mrs. Jacques Heath (Lily May Peel)  female  35.0      1   \n",
       "4                             Allen, Mr. William Henry    male  35.0      0   \n",
       "..                                                 ...     ...   ...    ...   \n",
       "886                              Montvila, Rev. Juozas    male  27.0      0   \n",
       "887                       Graham, Miss. Margaret Edith  female  19.0      0   \n",
       "888           Johnston, Miss. Catherine Helen \"Carrie\"  female   NaN      1   \n",
       "889                              Behr, Mr. Karl Howell    male  26.0      0   \n",
       "890                                Dooley, Mr. Patrick    male  32.0      0   \n",
       "\n",
       "     Parch            Ticket     Fare Cabin Embarked  \n",
       "0        0         A/5 21171   7.2500   NaN        S  \n",
       "1        0          PC 17599  71.2833   C85        C  \n",
       "2        0  STON/O2. 3101282   7.9250   NaN        S  \n",
       "3        0            113803  53.1000  C123        S  \n",
       "4        0            373450   8.0500   NaN        S  \n",
       "..     ...               ...      ...   ...      ...  \n",
       "886      0            211536  13.0000   NaN        S  \n",
       "887      0            112053  30.0000   B42        S  \n",
       "888      2        W./C. 6607  23.4500   NaN        S  \n",
       "889      0            111369  30.0000  C148        C  \n",
       "890      0            370376   7.7500   NaN        Q  \n",
       "\n",
       "[891 rows x 12 columns]"
      ]
     },
     "execution_count": 3,
     "metadata": {},
     "output_type": "execute_result"
    }
   ],
   "source": [
    "train = pd.read_csv('../input/titanic/train.csv')\n",
    "train"
   ]
  },
  {
   "cell_type": "markdown",
   "id": "bc68bd72",
   "metadata": {
    "papermill": {
     "duration": 0.007262,
     "end_time": "2022-09-16T23:36:28.068458",
     "exception": false,
     "start_time": "2022-09-16T23:36:28.061196",
     "status": "completed"
    },
    "tags": []
   },
   "source": [
    "# Análise exploratória de dados"
   ]
  },
  {
   "cell_type": "code",
   "execution_count": 4,
   "id": "f470e974",
   "metadata": {
    "execution": {
     "iopub.execute_input": "2022-09-16T23:36:28.086854Z",
     "iopub.status.busy": "2022-09-16T23:36:28.086519Z",
     "iopub.status.idle": "2022-09-16T23:36:28.121789Z",
     "shell.execute_reply": "2022-09-16T23:36:28.121204Z"
    },
    "papermill": {
     "duration": 0.046756,
     "end_time": "2022-09-16T23:36:28.123751",
     "exception": false,
     "start_time": "2022-09-16T23:36:28.076995",
     "status": "completed"
    },
    "tags": []
   },
   "outputs": [
    {
     "data": {
      "text/html": [
       "<div>\n",
       "<style scoped>\n",
       "    .dataframe tbody tr th:only-of-type {\n",
       "        vertical-align: middle;\n",
       "    }\n",
       "\n",
       "    .dataframe tbody tr th {\n",
       "        vertical-align: top;\n",
       "    }\n",
       "\n",
       "    .dataframe thead th {\n",
       "        text-align: right;\n",
       "    }\n",
       "</style>\n",
       "<table border=\"1\" class=\"dataframe\">\n",
       "  <thead>\n",
       "    <tr style=\"text-align: right;\">\n",
       "      <th></th>\n",
       "      <th>PassengerId</th>\n",
       "      <th>Survived</th>\n",
       "      <th>Pclass</th>\n",
       "      <th>Age</th>\n",
       "      <th>SibSp</th>\n",
       "      <th>Parch</th>\n",
       "      <th>Fare</th>\n",
       "    </tr>\n",
       "  </thead>\n",
       "  <tbody>\n",
       "    <tr>\n",
       "      <th>count</th>\n",
       "      <td>891.000000</td>\n",
       "      <td>891.000000</td>\n",
       "      <td>891.000000</td>\n",
       "      <td>714.000000</td>\n",
       "      <td>891.000000</td>\n",
       "      <td>891.000000</td>\n",
       "      <td>891.000000</td>\n",
       "    </tr>\n",
       "    <tr>\n",
       "      <th>mean</th>\n",
       "      <td>446.000000</td>\n",
       "      <td>0.383838</td>\n",
       "      <td>2.308642</td>\n",
       "      <td>29.699118</td>\n",
       "      <td>0.523008</td>\n",
       "      <td>0.381594</td>\n",
       "      <td>32.204208</td>\n",
       "    </tr>\n",
       "    <tr>\n",
       "      <th>std</th>\n",
       "      <td>257.353842</td>\n",
       "      <td>0.486592</td>\n",
       "      <td>0.836071</td>\n",
       "      <td>14.526497</td>\n",
       "      <td>1.102743</td>\n",
       "      <td>0.806057</td>\n",
       "      <td>49.693429</td>\n",
       "    </tr>\n",
       "    <tr>\n",
       "      <th>min</th>\n",
       "      <td>1.000000</td>\n",
       "      <td>0.000000</td>\n",
       "      <td>1.000000</td>\n",
       "      <td>0.420000</td>\n",
       "      <td>0.000000</td>\n",
       "      <td>0.000000</td>\n",
       "      <td>0.000000</td>\n",
       "    </tr>\n",
       "    <tr>\n",
       "      <th>25%</th>\n",
       "      <td>223.500000</td>\n",
       "      <td>0.000000</td>\n",
       "      <td>2.000000</td>\n",
       "      <td>20.125000</td>\n",
       "      <td>0.000000</td>\n",
       "      <td>0.000000</td>\n",
       "      <td>7.910400</td>\n",
       "    </tr>\n",
       "    <tr>\n",
       "      <th>50%</th>\n",
       "      <td>446.000000</td>\n",
       "      <td>0.000000</td>\n",
       "      <td>3.000000</td>\n",
       "      <td>28.000000</td>\n",
       "      <td>0.000000</td>\n",
       "      <td>0.000000</td>\n",
       "      <td>14.454200</td>\n",
       "    </tr>\n",
       "    <tr>\n",
       "      <th>75%</th>\n",
       "      <td>668.500000</td>\n",
       "      <td>1.000000</td>\n",
       "      <td>3.000000</td>\n",
       "      <td>38.000000</td>\n",
       "      <td>1.000000</td>\n",
       "      <td>0.000000</td>\n",
       "      <td>31.000000</td>\n",
       "    </tr>\n",
       "    <tr>\n",
       "      <th>max</th>\n",
       "      <td>891.000000</td>\n",
       "      <td>1.000000</td>\n",
       "      <td>3.000000</td>\n",
       "      <td>80.000000</td>\n",
       "      <td>8.000000</td>\n",
       "      <td>6.000000</td>\n",
       "      <td>512.329200</td>\n",
       "    </tr>\n",
       "  </tbody>\n",
       "</table>\n",
       "</div>"
      ],
      "text/plain": [
       "       PassengerId    Survived      Pclass         Age       SibSp  \\\n",
       "count   891.000000  891.000000  891.000000  714.000000  891.000000   \n",
       "mean    446.000000    0.383838    2.308642   29.699118    0.523008   \n",
       "std     257.353842    0.486592    0.836071   14.526497    1.102743   \n",
       "min       1.000000    0.000000    1.000000    0.420000    0.000000   \n",
       "25%     223.500000    0.000000    2.000000   20.125000    0.000000   \n",
       "50%     446.000000    0.000000    3.000000   28.000000    0.000000   \n",
       "75%     668.500000    1.000000    3.000000   38.000000    1.000000   \n",
       "max     891.000000    1.000000    3.000000   80.000000    8.000000   \n",
       "\n",
       "            Parch        Fare  \n",
       "count  891.000000  891.000000  \n",
       "mean     0.381594   32.204208  \n",
       "std      0.806057   49.693429  \n",
       "min      0.000000    0.000000  \n",
       "25%      0.000000    7.910400  \n",
       "50%      0.000000   14.454200  \n",
       "75%      0.000000   31.000000  \n",
       "max      6.000000  512.329200  "
      ]
     },
     "execution_count": 4,
     "metadata": {},
     "output_type": "execute_result"
    }
   ],
   "source": [
    "train.describe()"
   ]
  },
  {
   "cell_type": "code",
   "execution_count": 5,
   "id": "37af9eba",
   "metadata": {
    "execution": {
     "iopub.execute_input": "2022-09-16T23:36:28.142558Z",
     "iopub.status.busy": "2022-09-16T23:36:28.141999Z",
     "iopub.status.idle": "2022-09-16T23:36:28.159244Z",
     "shell.execute_reply": "2022-09-16T23:36:28.157521Z"
    },
    "papermill": {
     "duration": 0.029208,
     "end_time": "2022-09-16T23:36:28.161807",
     "exception": false,
     "start_time": "2022-09-16T23:36:28.132599",
     "status": "completed"
    },
    "tags": []
   },
   "outputs": [
    {
     "name": "stdout",
     "output_type": "stream",
     "text": [
      "<class 'pandas.core.frame.DataFrame'>\n",
      "RangeIndex: 891 entries, 0 to 890\n",
      "Data columns (total 12 columns):\n",
      " #   Column       Non-Null Count  Dtype  \n",
      "---  ------       --------------  -----  \n",
      " 0   PassengerId  891 non-null    int64  \n",
      " 1   Survived     891 non-null    int64  \n",
      " 2   Pclass       891 non-null    int64  \n",
      " 3   Name         891 non-null    object \n",
      " 4   Sex          891 non-null    object \n",
      " 5   Age          714 non-null    float64\n",
      " 6   SibSp        891 non-null    int64  \n",
      " 7   Parch        891 non-null    int64  \n",
      " 8   Ticket       891 non-null    object \n",
      " 9   Fare         891 non-null    float64\n",
      " 10  Cabin        204 non-null    object \n",
      " 11  Embarked     889 non-null    object \n",
      "dtypes: float64(2), int64(5), object(5)\n",
      "memory usage: 83.7+ KB\n"
     ]
    }
   ],
   "source": [
    "train.info()"
   ]
  },
  {
   "cell_type": "code",
   "execution_count": 6,
   "id": "36d2af5e",
   "metadata": {
    "execution": {
     "iopub.execute_input": "2022-09-16T23:36:28.179155Z",
     "iopub.status.busy": "2022-09-16T23:36:28.178827Z",
     "iopub.status.idle": "2022-09-16T23:36:28.377829Z",
     "shell.execute_reply": "2022-09-16T23:36:28.376653Z"
    },
    "papermill": {
     "duration": 0.21022,
     "end_time": "2022-09-16T23:36:28.380103",
     "exception": false,
     "start_time": "2022-09-16T23:36:28.169883",
     "status": "completed"
    },
    "tags": []
   },
   "outputs": [
    {
     "data": {
      "text/plain": [
       "<AxesSubplot:>"
      ]
     },
     "execution_count": 6,
     "metadata": {},
     "output_type": "execute_result"
    },
    {
     "data": {
      "image/png": "[encoded data removed]",
      "text/plain": [
       "<Figure size 864x432 with 1 Axes>"
      ]
     },
     "metadata": {
      "needs_background": "light"
     },
     "output_type": "display_data"
    }
   ],
   "source": [
    "plt.figure(figsize=(12,6))\n",
    "sns.heatmap(train.isnull(), yticklabels=False, cbar=False, cmap='viridis')\n",
    "#yticklabels=False serve para tirar a barra do eixo y\n",
    "#cbar=False serve para tirar a barrinha de cores que fica do lado direito\n",
    "#cmap='viridis' muda a cor do mapa para roxo"
   ]
  },
  {
   "cell_type": "code",
   "execution_count": 7,
   "id": "080cdbd1",
   "metadata": {
    "execution": {
     "iopub.execute_input": "2022-09-16T23:36:28.400069Z",
     "iopub.status.busy": "2022-09-16T23:36:28.399727Z",
     "iopub.status.idle": "2022-09-16T23:36:28.404885Z",
     "shell.execute_reply": "2022-09-16T23:36:28.403320Z"
    },
    "papermill": {
     "duration": 0.01824,
     "end_time": "2022-09-16T23:36:28.407518",
     "exception": false,
     "start_time": "2022-09-16T23:36:28.389278",
     "status": "completed"
    },
    "tags": []
   },
   "outputs": [],
   "source": [
    "sns.set_style('whitegrid')\n",
    "#sns.set_style('whitegrid') serve para mudar o fundo do grafico"
   ]
  },
  {
   "cell_type": "code",
   "execution_count": 8,
   "id": "3da53e55",
   "metadata": {
    "execution": {
     "iopub.execute_input": "2022-09-16T23:36:28.430879Z",
     "iopub.status.busy": "2022-09-16T23:36:28.430410Z",
     "iopub.status.idle": "2022-09-16T23:36:28.601770Z",
     "shell.execute_reply": "2022-09-16T23:36:28.600839Z"
    },
    "papermill": {
     "duration": 0.183777,
     "end_time": "2022-09-16T23:36:28.603459",
     "exception": false,
     "start_time": "2022-09-16T23:36:28.419682",
     "status": "completed"
    },
    "tags": []
   },
   "outputs": [
    {
     "data": {
      "text/plain": [
       "<AxesSubplot:xlabel='Survived', ylabel='count'>"
      ]
     },
     "execution_count": 8,
     "metadata": {},
     "output_type": "execute_result"
    },
    {
     "data": {
      "image/png": "[encoded data removed]",
      "text/plain": [
       "<Figure size 432x288 with 1 Axes>"
      ]
     },
     "metadata": {},
     "output_type": "display_data"
    }
   ],
   "source": [
    "sns.countplot(x='Survived', data= train, hue='Sex', palette= 'RdBu_r')\n",
    "#hue='Sex' vai criar uma segregação no grafico\n",
    "#palette= 'RdBu_r' muda a paelta de cores"
   ]
  },
  {
   "cell_type": "code",
   "execution_count": 9,
   "id": "6d2217bf",
   "metadata": {
    "execution": {
     "iopub.execute_input": "2022-09-16T23:36:28.624344Z",
     "iopub.status.busy": "2022-09-16T23:36:28.622840Z",
     "iopub.status.idle": "2022-09-16T23:36:28.806334Z",
     "shell.execute_reply": "2022-09-16T23:36:28.805308Z"
    },
    "papermill": {
     "duration": 0.196171,
     "end_time": "2022-09-16T23:36:28.808364",
     "exception": false,
     "start_time": "2022-09-16T23:36:28.612193",
     "status": "completed"
    },
    "tags": []
   },
   "outputs": [
    {
     "data": {
      "text/plain": [
       "<AxesSubplot:xlabel='Survived', ylabel='count'>"
      ]
     },
     "execution_count": 9,
     "metadata": {},
     "output_type": "execute_result"
    },
    {
     "data": {
      "image/png": "[encoded data removed]",
      "text/plain": [
       "<Figure size 432x288 with 1 Axes>"
      ]
     },
     "metadata": {},
     "output_type": "display_data"
    }
   ],
   "source": [
    "sns.countplot(x='Survived', data= train, hue='Pclass', palette= 'rainbow')"
   ]
  },
  {
   "cell_type": "code",
   "execution_count": 10,
   "id": "c800c06e",
   "metadata": {
    "execution": {
     "iopub.execute_input": "2022-09-16T23:36:28.835037Z",
     "iopub.status.busy": "2022-09-16T23:36:28.834718Z",
     "iopub.status.idle": "2022-09-16T23:36:29.110934Z",
     "shell.execute_reply": "2022-09-16T23:36:29.109617Z"
    },
    "papermill": {
     "duration": 0.291223,
     "end_time": "2022-09-16T23:36:29.113435",
     "exception": false,
     "start_time": "2022-09-16T23:36:28.822212",
     "status": "completed"
    },
    "tags": []
   },
   "outputs": [
    {
     "data": {
      "text/plain": [
       "<AxesSubplot:>"
      ]
     },
     "execution_count": 10,
     "metadata": {},
     "output_type": "execute_result"
    },
    {
     "data": {
      "image/png": "[encoded data removed]",
      "text/plain": [
       "<Figure size 432x288 with 1 Axes>"
      ]
     },
     "metadata": {},
     "output_type": "display_data"
    }
   ],
   "source": [
    "train['Age'].hist(bins=30, color='darkred', alpha=0.3)\n",
    "#alpha=0.3 transparencia do grafico"
   ]
  },
  {
   "cell_type": "code",
   "execution_count": 11,
   "id": "12251766",
   "metadata": {
    "execution": {
     "iopub.execute_input": "2022-09-16T23:36:29.134529Z",
     "iopub.status.busy": "2022-09-16T23:36:29.134199Z",
     "iopub.status.idle": "2022-09-16T23:36:29.328434Z",
     "shell.execute_reply": "2022-09-16T23:36:29.327082Z"
    },
    "papermill": {
     "duration": 0.207245,
     "end_time": "2022-09-16T23:36:29.330718",
     "exception": false,
     "start_time": "2022-09-16T23:36:29.123473",
     "status": "completed"
    },
    "tags": []
   },
   "outputs": [
    {
     "data": {
      "text/plain": [
       "<AxesSubplot:xlabel='SibSp', ylabel='count'>"
      ]
     },
     "execution_count": 11,
     "metadata": {},
     "output_type": "execute_result"
    },
    {
     "data": {
      "image/png": "[encoded data removed]",
      "text/plain": [
       "<Figure size 432x288 with 1 Axes>"
      ]
     },
     "metadata": {},
     "output_type": "display_data"
    }
   ],
   "source": [
    "sns.countplot(x='SibSp', data=train)"
   ]
  },
  {
   "cell_type": "code",
   "execution_count": 12,
   "id": "767f0152",
   "metadata": {
    "execution": {
     "iopub.execute_input": "2022-09-16T23:36:29.350749Z",
     "iopub.status.busy": "2022-09-16T23:36:29.350419Z",
     "iopub.status.idle": "2022-09-16T23:36:29.614396Z",
     "shell.execute_reply": "2022-09-16T23:36:29.612913Z"
    },
    "papermill": {
     "duration": 0.276312,
     "end_time": "2022-09-16T23:36:29.616370",
     "exception": false,
     "start_time": "2022-09-16T23:36:29.340058",
     "status": "completed"
    },
    "tags": []
   },
   "outputs": [
    {
     "data": {
      "text/plain": [
       "<AxesSubplot:>"
      ]
     },
     "execution_count": 12,
     "metadata": {},
     "output_type": "execute_result"
    },
    {
     "data": {
      "image/png": "[encoded data removed]",
      "text/plain": [
       "<Figure size 432x288 with 1 Axes>"
      ]
     },
     "metadata": {},
     "output_type": "display_data"
    }
   ],
   "source": [
    "train[train['SibSp'] == 0]['Age'].hist(bins=30)"
   ]
  },
  {
   "cell_type": "code",
   "execution_count": 13,
   "id": "3f4c128b",
   "metadata": {
    "execution": {
     "iopub.execute_input": "2022-09-16T23:36:29.637580Z",
     "iopub.status.busy": "2022-09-16T23:36:29.637211Z",
     "iopub.status.idle": "2022-09-16T23:36:29.922316Z",
     "shell.execute_reply": "2022-09-16T23:36:29.921406Z"
    },
    "papermill": {
     "duration": 0.298266,
     "end_time": "2022-09-16T23:36:29.924599",
     "exception": false,
     "start_time": "2022-09-16T23:36:29.626333",
     "status": "completed"
    },
    "tags": []
   },
   "outputs": [
    {
     "data": {
      "text/plain": [
       "<AxesSubplot:>"
      ]
     },
     "execution_count": 13,
     "metadata": {},
     "output_type": "execute_result"
    },
    {
     "data": {
      "image/png": "[encoded data removed]",
      "text/plain": [
       "<Figure size 864x432 with 1 Axes>"
      ]
     },
     "metadata": {},
     "output_type": "display_data"
    }
   ],
   "source": [
    "train[train['Fare'] < 70]['Fare'].hist(color='green', bins=50, figsize=(12,6))"
   ]
  },
  {
   "cell_type": "code",
   "execution_count": 14,
   "id": "8e32b04a",
   "metadata": {
    "execution": {
     "iopub.execute_input": "2022-09-16T23:36:29.945792Z",
     "iopub.status.busy": "2022-09-16T23:36:29.945489Z",
     "iopub.status.idle": "2022-09-16T23:36:30.135193Z",
     "shell.execute_reply": "2022-09-16T23:36:30.133674Z"
    },
    "papermill": {
     "duration": 0.202889,
     "end_time": "2022-09-16T23:36:30.137488",
     "exception": false,
     "start_time": "2022-09-16T23:36:29.934599",
     "status": "completed"
    },
    "tags": []
   },
   "outputs": [
    {
     "data": {
      "text/plain": [
       "<AxesSubplot:xlabel='Pclass', ylabel='Age'>"
      ]
     },
     "execution_count": 14,
     "metadata": {},
     "output_type": "execute_result"
    },
    {
     "data": {
      "image/png": "[encoded data removed]",
      "text/plain": [
       "<Figure size 864x432 with 1 Axes>"
      ]
     },
     "metadata": {},
     "output_type": "display_data"
    }
   ],
   "source": [
    "plt.figure(figsize=(12,6))\n",
    "sns.boxplot(x='Pclass', y='Age', data = train)"
   ]
  },
  {
   "cell_type": "markdown",
   "id": "d874c9cb",
   "metadata": {
    "papermill": {
     "duration": 0.009809,
     "end_time": "2022-09-16T23:36:30.158300",
     "exception": false,
     "start_time": "2022-09-16T23:36:30.148491",
     "status": "completed"
    },
    "tags": []
   },
   "source": [
    "# Data Sciencie"
   ]
  },
  {
   "cell_type": "code",
   "execution_count": 15,
   "id": "8570616f",
   "metadata": {
    "execution": {
     "iopub.execute_input": "2022-09-16T23:36:30.181373Z",
     "iopub.status.busy": "2022-09-16T23:36:30.180116Z",
     "iopub.status.idle": "2022-09-16T23:36:30.186854Z",
     "shell.execute_reply": "2022-09-16T23:36:30.185526Z"
    },
    "papermill": {
     "duration": 0.020762,
     "end_time": "2022-09-16T23:36:30.189253",
     "exception": false,
     "start_time": "2022-09-16T23:36:30.168491",
     "status": "completed"
    },
    "tags": []
   },
   "outputs": [],
   "source": [
    "def imputar_idade(cols):\n",
    "    idade=cols[0]\n",
    "    classe=cols[1]\n",
    "    \n",
    "    if pd.isnull(idade):\n",
    "\n",
    "      if classe == 1:\n",
    "        return 37\n",
    "\n",
    "      elif classe ==2:\n",
    "        return 29\n",
    "\n",
    "      else:\n",
    "        return 24\n",
    "    else:\n",
    "      return idade\n",
    "#Programa para completar os dados faltantes com as medias de idade das classes"
   ]
  },
  {
   "cell_type": "code",
   "execution_count": 16,
   "id": "c059d9f9",
   "metadata": {
    "execution": {
     "iopub.execute_input": "2022-09-16T23:36:30.211929Z",
     "iopub.status.busy": "2022-09-16T23:36:30.211582Z",
     "iopub.status.idle": "2022-09-16T23:36:30.229595Z",
     "shell.execute_reply": "2022-09-16T23:36:30.228892Z"
    },
    "papermill": {
     "duration": 0.031432,
     "end_time": "2022-09-16T23:36:30.231560",
     "exception": false,
     "start_time": "2022-09-16T23:36:30.200128",
     "status": "completed"
    },
    "tags": []
   },
   "outputs": [],
   "source": [
    "train['Age']=train[['Age','Pclass']].apply(imputar_idade,axis=1)"
   ]
  },
  {
   "cell_type": "code",
   "execution_count": 17,
   "id": "8b9db2d0",
   "metadata": {
    "execution": {
     "iopub.execute_input": "2022-09-16T23:36:30.255269Z",
     "iopub.status.busy": "2022-09-16T23:36:30.254703Z",
     "iopub.status.idle": "2022-09-16T23:36:30.259761Z",
     "shell.execute_reply": "2022-09-16T23:36:30.259222Z"
    },
    "papermill": {
     "duration": 0.018511,
     "end_time": "2022-09-16T23:36:30.261392",
     "exception": false,
     "start_time": "2022-09-16T23:36:30.242881",
     "status": "completed"
    },
    "tags": []
   },
   "outputs": [],
   "source": [
    "train.drop('Cabin',inplace=True,axis= 1)\n",
    "#apagando a coluna cabin\n",
    "#axis=1 referece a coluna axis = 0 referece a linha "
   ]
  },
  {
   "cell_type": "code",
   "execution_count": 18,
   "id": "43c46a6e",
   "metadata": {
    "execution": {
     "iopub.execute_input": "2022-09-16T23:36:30.284625Z",
     "iopub.status.busy": "2022-09-16T23:36:30.284062Z",
     "iopub.status.idle": "2022-09-16T23:36:30.291141Z",
     "shell.execute_reply": "2022-09-16T23:36:30.290350Z"
    },
    "papermill": {
     "duration": 0.021181,
     "end_time": "2022-09-16T23:36:30.293182",
     "exception": false,
     "start_time": "2022-09-16T23:36:30.272001",
     "status": "completed"
    },
    "tags": []
   },
   "outputs": [],
   "source": [
    "train.dropna(inplace=True)"
   ]
  },
  {
   "cell_type": "code",
   "execution_count": 19,
   "id": "005777ef",
   "metadata": {
    "execution": {
     "iopub.execute_input": "2022-09-16T23:36:30.317779Z",
     "iopub.status.busy": "2022-09-16T23:36:30.317241Z",
     "iopub.status.idle": "2022-09-16T23:36:30.532298Z",
     "shell.execute_reply": "2022-09-16T23:36:30.531107Z"
    },
    "papermill": {
     "duration": 0.230003,
     "end_time": "2022-09-16T23:36:30.534887",
     "exception": false,
     "start_time": "2022-09-16T23:36:30.304884",
     "status": "completed"
    },
    "tags": []
   },
   "outputs": [
    {
     "data": {
      "text/plain": [
       "<AxesSubplot:>"
      ]
     },
     "execution_count": 19,
     "metadata": {},
     "output_type": "execute_result"
    },
    {
     "data": {
      "image/png": "[encoded data removed]",
      "text/plain": [
       "<Figure size 864x432 with 1 Axes>"
      ]
     },
     "metadata": {},
     "output_type": "display_data"
    }
   ],
   "source": [
    "plt.figure(figsize=(12,6))\n",
    "sns.heatmap(train.isnull(), yticklabels=False, cbar=False, cmap='viridis')"
   ]
  },
  {
   "cell_type": "code",
   "execution_count": 20,
   "id": "f25961b2",
   "metadata": {
    "execution": {
     "iopub.execute_input": "2022-09-16T23:36:30.558860Z",
     "iopub.status.busy": "2022-09-16T23:36:30.558507Z",
     "iopub.status.idle": "2022-09-16T23:36:30.566015Z",
     "shell.execute_reply": "2022-09-16T23:36:30.564584Z"
    },
    "papermill": {
     "duration": 0.022419,
     "end_time": "2022-09-16T23:36:30.568655",
     "exception": false,
     "start_time": "2022-09-16T23:36:30.546236",
     "status": "completed"
    },
    "tags": []
   },
   "outputs": [],
   "source": [
    "sex = pd.get_dummies(train['Sex'], drop_first=True)\n",
    "#pd.get_dummies serve para transformar em numerico\n",
    "#drop_first=True excluir a primeira coluna gerada"
   ]
  },
  {
   "cell_type": "code",
   "execution_count": 21,
   "id": "64e30323",
   "metadata": {
    "execution": {
     "iopub.execute_input": "2022-09-16T23:36:30.592556Z",
     "iopub.status.busy": "2022-09-16T23:36:30.592177Z",
     "iopub.status.idle": "2022-09-16T23:36:30.606230Z",
     "shell.execute_reply": "2022-09-16T23:36:30.605108Z"
    },
    "papermill": {
     "duration": 0.028044,
     "end_time": "2022-09-16T23:36:30.608121",
     "exception": false,
     "start_time": "2022-09-16T23:36:30.580077",
     "status": "completed"
    },
    "tags": []
   },
   "outputs": [
    {
     "data": {
      "text/html": [
       "<div>\n",
       "<style scoped>\n",
       "    .dataframe tbody tr th:only-of-type {\n",
       "        vertical-align: middle;\n",
       "    }\n",
       "\n",
       "    .dataframe tbody tr th {\n",
       "        vertical-align: top;\n",
       "    }\n",
       "\n",
       "    .dataframe thead th {\n",
       "        text-align: right;\n",
       "    }\n",
       "</style>\n",
       "<table border=\"1\" class=\"dataframe\">\n",
       "  <thead>\n",
       "    <tr style=\"text-align: right;\">\n",
       "      <th></th>\n",
       "      <th>Q</th>\n",
       "      <th>S</th>\n",
       "    </tr>\n",
       "  </thead>\n",
       "  <tbody>\n",
       "    <tr>\n",
       "      <th>0</th>\n",
       "      <td>0</td>\n",
       "      <td>1</td>\n",
       "    </tr>\n",
       "    <tr>\n",
       "      <th>1</th>\n",
       "      <td>0</td>\n",
       "      <td>0</td>\n",
       "    </tr>\n",
       "    <tr>\n",
       "      <th>2</th>\n",
       "      <td>0</td>\n",
       "      <td>1</td>\n",
       "    </tr>\n",
       "    <tr>\n",
       "      <th>3</th>\n",
       "      <td>0</td>\n",
       "      <td>1</td>\n",
       "    </tr>\n",
       "    <tr>\n",
       "      <th>4</th>\n",
       "      <td>0</td>\n",
       "      <td>1</td>\n",
       "    </tr>\n",
       "    <tr>\n",
       "      <th>...</th>\n",
       "      <td>...</td>\n",
       "      <td>...</td>\n",
       "    </tr>\n",
       "    <tr>\n",
       "      <th>886</th>\n",
       "      <td>0</td>\n",
       "      <td>1</td>\n",
       "    </tr>\n",
       "    <tr>\n",
       "      <th>887</th>\n",
       "      <td>0</td>\n",
       "      <td>1</td>\n",
       "    </tr>\n",
       "    <tr>\n",
       "      <th>888</th>\n",
       "      <td>0</td>\n",
       "      <td>1</td>\n",
       "    </tr>\n",
       "    <tr>\n",
       "      <th>889</th>\n",
       "      <td>0</td>\n",
       "      <td>0</td>\n",
       "    </tr>\n",
       "    <tr>\n",
       "      <th>890</th>\n",
       "      <td>1</td>\n",
       "      <td>0</td>\n",
       "    </tr>\n",
       "  </tbody>\n",
       "</table>\n",
       "<p>889 rows × 2 columns</p>\n",
       "</div>"
      ],
      "text/plain": [
       "     Q  S\n",
       "0    0  1\n",
       "1    0  0\n",
       "2    0  1\n",
       "3    0  1\n",
       "4    0  1\n",
       "..  .. ..\n",
       "886  0  1\n",
       "887  0  1\n",
       "888  0  1\n",
       "889  0  0\n",
       "890  1  0\n",
       "\n",
       "[889 rows x 2 columns]"
      ]
     },
     "execution_count": 21,
     "metadata": {},
     "output_type": "execute_result"
    }
   ],
   "source": [
    "embarque = pd.get_dummies(train['Embarked'], drop_first=True)\n",
    "embarque"
   ]
  },
  {
   "cell_type": "code",
   "execution_count": 22,
   "id": "5b117025",
   "metadata": {
    "execution": {
     "iopub.execute_input": "2022-09-16T23:36:30.631234Z",
     "iopub.status.busy": "2022-09-16T23:36:30.630869Z",
     "iopub.status.idle": "2022-09-16T23:36:30.637181Z",
     "shell.execute_reply": "2022-09-16T23:36:30.636211Z"
    },
    "papermill": {
     "duration": 0.019993,
     "end_time": "2022-09-16T23:36:30.638901",
     "exception": false,
     "start_time": "2022-09-16T23:36:30.618908",
     "status": "completed"
    },
    "tags": []
   },
   "outputs": [],
   "source": [
    "train.drop(['Sex','PassengerId','Ticket','Name','Embarked'], axis=1, inplace= True)"
   ]
  },
  {
   "cell_type": "code",
   "execution_count": 23,
   "id": "0ece62e0",
   "metadata": {
    "execution": {
     "iopub.execute_input": "2022-09-16T23:36:30.663406Z",
     "iopub.status.busy": "2022-09-16T23:36:30.663092Z",
     "iopub.status.idle": "2022-09-16T23:36:30.670110Z",
     "shell.execute_reply": "2022-09-16T23:36:30.668829Z"
    },
    "papermill": {
     "duration": 0.021932,
     "end_time": "2022-09-16T23:36:30.671893",
     "exception": false,
     "start_time": "2022-09-16T23:36:30.649961",
     "status": "completed"
    },
    "tags": []
   },
   "outputs": [],
   "source": [
    "train = pd.concat([train,sex,embarque], axis=1 )"
   ]
  },
  {
   "cell_type": "code",
   "execution_count": 24,
   "id": "d81f59b3",
   "metadata": {
    "execution": {
     "iopub.execute_input": "2022-09-16T23:36:30.694734Z",
     "iopub.status.busy": "2022-09-16T23:36:30.694432Z",
     "iopub.status.idle": "2022-09-16T23:36:30.705905Z",
     "shell.execute_reply": "2022-09-16T23:36:30.704913Z"
    },
    "papermill": {
     "duration": 0.025197,
     "end_time": "2022-09-16T23:36:30.707779",
     "exception": false,
     "start_time": "2022-09-16T23:36:30.682582",
     "status": "completed"
    },
    "tags": []
   },
   "outputs": [
    {
     "data": {
      "text/html": [
       "<div>\n",
       "<style scoped>\n",
       "    .dataframe tbody tr th:only-of-type {\n",
       "        vertical-align: middle;\n",
       "    }\n",
       "\n",
       "    .dataframe tbody tr th {\n",
       "        vertical-align: top;\n",
       "    }\n",
       "\n",
       "    .dataframe thead th {\n",
       "        text-align: right;\n",
       "    }\n",
       "</style>\n",
       "<table border=\"1\" class=\"dataframe\">\n",
       "  <thead>\n",
       "    <tr style=\"text-align: right;\">\n",
       "      <th></th>\n",
       "      <th>Survived</th>\n",
       "      <th>Pclass</th>\n",
       "      <th>Age</th>\n",
       "      <th>SibSp</th>\n",
       "      <th>Parch</th>\n",
       "      <th>Fare</th>\n",
       "      <th>male</th>\n",
       "      <th>Q</th>\n",
       "      <th>S</th>\n",
       "    </tr>\n",
       "  </thead>\n",
       "  <tbody>\n",
       "    <tr>\n",
       "      <th>0</th>\n",
       "      <td>0</td>\n",
       "      <td>3</td>\n",
       "      <td>22.0</td>\n",
       "      <td>1</td>\n",
       "      <td>0</td>\n",
       "      <td>7.2500</td>\n",
       "      <td>1</td>\n",
       "      <td>0</td>\n",
       "      <td>1</td>\n",
       "    </tr>\n",
       "    <tr>\n",
       "      <th>1</th>\n",
       "      <td>1</td>\n",
       "      <td>1</td>\n",
       "      <td>38.0</td>\n",
       "      <td>1</td>\n",
       "      <td>0</td>\n",
       "      <td>71.2833</td>\n",
       "      <td>0</td>\n",
       "      <td>0</td>\n",
       "      <td>0</td>\n",
       "    </tr>\n",
       "    <tr>\n",
       "      <th>2</th>\n",
       "      <td>1</td>\n",
       "      <td>3</td>\n",
       "      <td>26.0</td>\n",
       "      <td>0</td>\n",
       "      <td>0</td>\n",
       "      <td>7.9250</td>\n",
       "      <td>0</td>\n",
       "      <td>0</td>\n",
       "      <td>1</td>\n",
       "    </tr>\n",
       "    <tr>\n",
       "      <th>3</th>\n",
       "      <td>1</td>\n",
       "      <td>1</td>\n",
       "      <td>35.0</td>\n",
       "      <td>1</td>\n",
       "      <td>0</td>\n",
       "      <td>53.1000</td>\n",
       "      <td>0</td>\n",
       "      <td>0</td>\n",
       "      <td>1</td>\n",
       "    </tr>\n",
       "    <tr>\n",
       "      <th>4</th>\n",
       "      <td>0</td>\n",
       "      <td>3</td>\n",
       "      <td>35.0</td>\n",
       "      <td>0</td>\n",
       "      <td>0</td>\n",
       "      <td>8.0500</td>\n",
       "      <td>1</td>\n",
       "      <td>0</td>\n",
       "      <td>1</td>\n",
       "    </tr>\n",
       "  </tbody>\n",
       "</table>\n",
       "</div>"
      ],
      "text/plain": [
       "   Survived  Pclass   Age  SibSp  Parch     Fare  male  Q  S\n",
       "0         0       3  22.0      1      0   7.2500     1  0  1\n",
       "1         1       1  38.0      1      0  71.2833     0  0  0\n",
       "2         1       3  26.0      0      0   7.9250     0  0  1\n",
       "3         1       1  35.0      1      0  53.1000     0  0  1\n",
       "4         0       3  35.0      0      0   8.0500     1  0  1"
      ]
     },
     "execution_count": 24,
     "metadata": {},
     "output_type": "execute_result"
    }
   ],
   "source": [
    "train.head()"
   ]
  },
  {
   "cell_type": "markdown",
   "id": "82efc9cc",
   "metadata": {
    "papermill": {
     "duration": 0.010468,
     "end_time": "2022-09-16T23:36:30.728982",
     "exception": false,
     "start_time": "2022-09-16T23:36:30.718514",
     "status": "completed"
    },
    "tags": []
   },
   "source": [
    "# Treino/Teste"
   ]
  },
  {
   "cell_type": "code",
   "execution_count": 25,
   "id": "4782a23c",
   "metadata": {
    "execution": {
     "iopub.execute_input": "2022-09-16T23:36:30.753179Z",
     "iopub.status.busy": "2022-09-16T23:36:30.752869Z",
     "iopub.status.idle": "2022-09-16T23:36:31.042353Z",
     "shell.execute_reply": "2022-09-16T23:36:31.041162Z"
    },
    "papermill": {
     "duration": 0.304304,
     "end_time": "2022-09-16T23:36:31.044734",
     "exception": false,
     "start_time": "2022-09-16T23:36:30.740430",
     "status": "completed"
    },
    "tags": []
   },
   "outputs": [],
   "source": [
    "from sklearn.linear_model import LogisticRegression\n",
    "from sklearn.model_selection import train_test_split"
   ]
  },
  {
   "cell_type": "code",
   "execution_count": 26,
   "id": "21f69a0a",
   "metadata": {
    "execution": {
     "iopub.execute_input": "2022-09-16T23:36:31.068768Z",
     "iopub.status.busy": "2022-09-16T23:36:31.068425Z",
     "iopub.status.idle": "2022-09-16T23:36:31.076988Z",
     "shell.execute_reply": "2022-09-16T23:36:31.075947Z"
    },
    "papermill": {
     "duration": 0.023331,
     "end_time": "2022-09-16T23:36:31.079317",
     "exception": false,
     "start_time": "2022-09-16T23:36:31.055986",
     "status": "completed"
    },
    "tags": []
   },
   "outputs": [],
   "source": [
    "x_train, x_test, y_train, y_test = train_test_split(train.drop('Survived', axis=1),train['Survived'], test_size=0.3)"
   ]
  },
  {
   "cell_type": "code",
   "execution_count": 27,
   "id": "af45e95a",
   "metadata": {
    "execution": {
     "iopub.execute_input": "2022-09-16T23:36:31.104846Z",
     "iopub.status.busy": "2022-09-16T23:36:31.103547Z",
     "iopub.status.idle": "2022-09-16T23:36:31.109849Z",
     "shell.execute_reply": "2022-09-16T23:36:31.108252Z"
    },
    "papermill": {
     "duration": 0.0216,
     "end_time": "2022-09-16T23:36:31.112362",
     "exception": false,
     "start_time": "2022-09-16T23:36:31.090762",
     "status": "completed"
    },
    "tags": []
   },
   "outputs": [],
   "source": [
    "logmodel = LogisticRegression(max_iter=225)"
   ]
  },
  {
   "cell_type": "code",
   "execution_count": 28,
   "id": "f355b2b4",
   "metadata": {
    "execution": {
     "iopub.execute_input": "2022-09-16T23:36:31.136251Z",
     "iopub.status.busy": "2022-09-16T23:36:31.135872Z",
     "iopub.status.idle": "2022-09-16T23:36:31.186821Z",
     "shell.execute_reply": "2022-09-16T23:36:31.185602Z"
    },
    "papermill": {
     "duration": 0.065921,
     "end_time": "2022-09-16T23:36:31.189428",
     "exception": false,
     "start_time": "2022-09-16T23:36:31.123507",
     "status": "completed"
    },
    "tags": []
   },
   "outputs": [
    {
     "data": {
      "text/plain": [
       "LogisticRegression(max_iter=225)"
      ]
     },
     "execution_count": 28,
     "metadata": {},
     "output_type": "execute_result"
    }
   ],
   "source": [
    "logmodel.fit(x_train, y_train)"
   ]
  },
  {
   "cell_type": "code",
   "execution_count": 29,
   "id": "5faa7ca1",
   "metadata": {
    "execution": {
     "iopub.execute_input": "2022-09-16T23:36:31.212663Z",
     "iopub.status.busy": "2022-09-16T23:36:31.212333Z",
     "iopub.status.idle": "2022-09-16T23:36:31.219018Z",
     "shell.execute_reply": "2022-09-16T23:36:31.218123Z"
    },
    "papermill": {
     "duration": 0.021059,
     "end_time": "2022-09-16T23:36:31.221630",
     "exception": false,
     "start_time": "2022-09-16T23:36:31.200571",
     "status": "completed"
    },
    "tags": []
   },
   "outputs": [],
   "source": [
    "predictions = logmodel.predict(x_test)"
   ]
  },
  {
   "cell_type": "markdown",
   "id": "b787da1c",
   "metadata": {
    "papermill": {
     "duration": 0.010772,
     "end_time": "2022-09-16T23:36:31.243541",
     "exception": false,
     "start_time": "2022-09-16T23:36:31.232769",
     "status": "completed"
    },
    "tags": []
   },
   "source": [
    "# Avaliação"
   ]
  },
  {
   "cell_type": "code",
   "execution_count": 30,
   "id": "0c36894f",
   "metadata": {
    "execution": {
     "iopub.execute_input": "2022-09-16T23:36:31.266856Z",
     "iopub.status.busy": "2022-09-16T23:36:31.266513Z",
     "iopub.status.idle": "2022-09-16T23:36:31.271577Z",
     "shell.execute_reply": "2022-09-16T23:36:31.270688Z"
    },
    "papermill": {
     "duration": 0.019714,
     "end_time": "2022-09-16T23:36:31.274123",
     "exception": false,
     "start_time": "2022-09-16T23:36:31.254409",
     "status": "completed"
    },
    "tags": []
   },
   "outputs": [],
   "source": [
    "from sklearn.metrics import classification_report"
   ]
  },
  {
   "cell_type": "code",
   "execution_count": 31,
   "id": "74bdcccf",
   "metadata": {
    "execution": {
     "iopub.execute_input": "2022-09-16T23:36:31.297385Z",
     "iopub.status.busy": "2022-09-16T23:36:31.297073Z",
     "iopub.status.idle": "2022-09-16T23:36:31.306876Z",
     "shell.execute_reply": "2022-09-16T23:36:31.305735Z"
    },
    "papermill": {
     "duration": 0.023987,
     "end_time": "2022-09-16T23:36:31.308959",
     "exception": false,
     "start_time": "2022-09-16T23:36:31.284972",
     "status": "completed"
    },
    "tags": []
   },
   "outputs": [
    {
     "name": "stdout",
     "output_type": "stream",
     "text": [
      "              precision    recall  f1-score   support\n",
      "\n",
      "           0       0.82      0.86      0.84       167\n",
      "           1       0.75      0.68      0.71       100\n",
      "\n",
      "    accuracy                           0.79       267\n",
      "   macro avg       0.78      0.77      0.78       267\n",
      "weighted avg       0.79      0.79      0.79       267\n",
      "\n"
     ]
    }
   ],
   "source": [
    "print(classification_report(y_test, predictions))"
   ]
  },
  {
   "cell_type": "code",
   "execution_count": 32,
   "id": "41b401c7",
   "metadata": {
    "execution": {
     "iopub.execute_input": "2022-09-16T23:36:31.332845Z",
     "iopub.status.busy": "2022-09-16T23:36:31.332528Z",
     "iopub.status.idle": "2022-09-16T23:36:31.337943Z",
     "shell.execute_reply": "2022-09-16T23:36:31.336442Z"
    },
    "papermill": {
     "duration": 0.019243,
     "end_time": "2022-09-16T23:36:31.339687",
     "exception": false,
     "start_time": "2022-09-16T23:36:31.320444",
     "status": "completed"
    },
    "tags": []
   },
   "outputs": [],
   "source": [
    "from sklearn.metrics import confusion_matrix"
   ]
  },
  {
   "cell_type": "code",
   "execution_count": 33,
   "id": "9a22bcbd",
   "metadata": {
    "execution": {
     "iopub.execute_input": "2022-09-16T23:36:31.362993Z",
     "iopub.status.busy": "2022-09-16T23:36:31.362675Z",
     "iopub.status.idle": "2022-09-16T23:36:31.372453Z",
     "shell.execute_reply": "2022-09-16T23:36:31.370834Z"
    },
    "papermill": {
     "duration": 0.023572,
     "end_time": "2022-09-16T23:36:31.374412",
     "exception": false,
     "start_time": "2022-09-16T23:36:31.350840",
     "status": "completed"
    },
    "tags": []
   },
   "outputs": [
    {
     "name": "stdout",
     "output_type": "stream",
     "text": [
      "[[144  23]\n",
      " [ 32  68]]\n"
     ]
    }
   ],
   "source": [
    "print(confusion_matrix(y_test, predictions))"
   ]
  },
  {
   "cell_type": "code",
   "execution_count": null,
   "id": "67808737",
   "metadata": {
    "papermill": {
     "duration": 0.010109,
     "end_time": "2022-09-16T23:36:31.395330",
     "exception": false,
     "start_time": "2022-09-16T23:36:31.385221",
     "status": "completed"
    },
    "tags": []
   },
   "outputs": [],
   "source": []
  }
 ],
 "metadata": {
  "kernelspec": {
   "display_name": "Python 3",
   "language": "python",
   "name": "python3"
  },
  "language_info": {
   "codemirror_mode": {
    "name": "ipython",
    "version": 3
   },
   "file_extension": ".py",
   "mimetype": "text/x-python",
   "name": "python",
   "nbconvert_exporter": "python",
   "pygments_lexer": "ipython3",
   "version": "3.7.12"
  },
  "papermill": {
   "default_parameters": {},
   "duration": 13.02549,
   "end_time": "2022-09-16T23:36:32.126192",
   "environment_variables": {},
   "exception": null,
   "input_path": "__notebook__.ipynb",
   "output_path": "__notebook__.ipynb",
   "parameters": {},
   "start_time": "2022-09-16T23:36:19.100702",
   "version": "2.3.4"
  }
 },
 "nbformat": 4,
 "nbformat_minor": 5
}
