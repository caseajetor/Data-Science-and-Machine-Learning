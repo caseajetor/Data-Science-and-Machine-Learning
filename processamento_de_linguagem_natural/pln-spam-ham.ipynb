{
 "cells": [
  {
   "cell_type": "code",
   "execution_count": 1,
   "id": "3b8f55fc",
   "metadata": {
    "_cell_guid": "b1076dfc-b9ad-4769-8c92-a6c4dae69d19",
    "_uuid": "8f2839f25d086af736a60e9eeb907d3b93b6e0e5",
    "execution": {
     "iopub.execute_input": "2022-09-19T19:25:50.688460Z",
     "iopub.status.busy": "2022-09-19T19:25:50.687830Z",
     "iopub.status.idle": "2022-09-19T19:25:50.710439Z",
     "shell.execute_reply": "2022-09-19T19:25:50.709150Z"
    },
    "papermill": {
     "duration": 0.042798,
     "end_time": "2022-09-19T19:25:50.713151",
     "exception": false,
     "start_time": "2022-09-19T19:25:50.670353",
     "status": "completed"
    },
    "tags": []
   },
   "outputs": [
    {
     "name": "stdout",
     "output_type": "stream",
     "text": [
      "/kaggle/input/spam-detection/SMSSpamCollection\n"
     ]
    }
   ],
   "source": [
    "# This Python 3 environment comes with many helpful analytics libraries installed\n",
    "# It is defined by the kaggle/python Docker image: https://github.com/kaggle/docker-python\n",
    "# For example, here's several helpful packages to load\n",
    "\n",
    "import numpy as np # linear algebra\n",
    "import pandas as pd # data processing, CSV file I/O (e.g. pd.read_csv)\n",
    "\n",
    "# Input data files are available in the read-only \"../input/\" directory\n",
    "# For example, running this (by clicking run or pressing Shift+Enter) will list all files under the input directory\n",
    "\n",
    "import os\n",
    "for dirname, _, filenames in os.walk('/kaggle/input'):\n",
    "    for filename in filenames:\n",
    "        print(os.path.join(dirname, filename))\n",
    "\n",
    "# You can write up to 20GB to the current directory (/kaggle/working/) that gets preserved as output when you create a version using \"Save & Run All\" \n",
    "# You can also write temporary files to /kaggle/temp/, but they won't be saved outside of the current session"
   ]
  },
  {
   "cell_type": "code",
   "execution_count": 2,
   "id": "8829ff79",
   "metadata": {
    "execution": {
     "iopub.execute_input": "2022-09-19T19:25:50.745462Z",
     "iopub.status.busy": "2022-09-19T19:25:50.744755Z",
     "iopub.status.idle": "2022-09-19T19:25:52.743759Z",
     "shell.execute_reply": "2022-09-19T19:25:52.742735Z"
    },
    "papermill": {
     "duration": 2.019072,
     "end_time": "2022-09-19T19:25:52.746449",
     "exception": false,
     "start_time": "2022-09-19T19:25:50.727377",
     "status": "completed"
    },
    "tags": []
   },
   "outputs": [],
   "source": [
    "import pandas as pd\n",
    "import matplotlib.pyplot as plt\n",
    "import seaborn as sns\n",
    "import string\n",
    "import nltk\n",
    "%matplotlib inline"
   ]
  },
  {
   "cell_type": "code",
   "execution_count": 3,
   "id": "902dcdf3",
   "metadata": {
    "execution": {
     "iopub.execute_input": "2022-09-19T19:25:52.776590Z",
     "iopub.status.busy": "2022-09-19T19:25:52.775923Z",
     "iopub.status.idle": "2022-09-19T19:25:52.780999Z",
     "shell.execute_reply": "2022-09-19T19:25:52.779931Z"
    },
    "papermill": {
     "duration": 0.02254,
     "end_time": "2022-09-19T19:25:52.783095",
     "exception": false,
     "start_time": "2022-09-19T19:25:52.760555",
     "status": "completed"
    },
    "tags": []
   },
   "outputs": [],
   "source": [
    "#nltk.download_shell()"
   ]
  },
  {
   "cell_type": "code",
   "execution_count": 4,
   "id": "acb203b7",
   "metadata": {
    "execution": {
     "iopub.execute_input": "2022-09-19T19:25:52.814165Z",
     "iopub.status.busy": "2022-09-19T19:25:52.813440Z",
     "iopub.status.idle": "2022-09-19T19:25:52.836406Z",
     "shell.execute_reply": "2022-09-19T19:25:52.835170Z"
    },
    "papermill": {
     "duration": 0.04209,
     "end_time": "2022-09-19T19:25:52.839282",
     "exception": false,
     "start_time": "2022-09-19T19:25:52.797192",
     "status": "completed"
    },
    "tags": []
   },
   "outputs": [],
   "source": [
    "messages  = [line.rstrip() for line in open('../input/spam-detection/SMSSpamCollection')]"
   ]
  },
  {
   "cell_type": "code",
   "execution_count": 5,
   "id": "4586665a",
   "metadata": {
    "execution": {
     "iopub.execute_input": "2022-09-19T19:25:52.876512Z",
     "iopub.status.busy": "2022-09-19T19:25:52.875791Z",
     "iopub.status.idle": "2022-09-19T19:25:52.882846Z",
     "shell.execute_reply": "2022-09-19T19:25:52.881477Z"
    },
    "papermill": {
     "duration": 0.031092,
     "end_time": "2022-09-19T19:25:52.885649",
     "exception": false,
     "start_time": "2022-09-19T19:25:52.854557",
     "status": "completed"
    },
    "tags": []
   },
   "outputs": [
    {
     "name": "stdout",
     "output_type": "stream",
     "text": [
      "5574\n"
     ]
    }
   ],
   "source": [
    "print(len(messages))"
   ]
  },
  {
   "cell_type": "code",
   "execution_count": 6,
   "id": "a1c5f5e7",
   "metadata": {
    "execution": {
     "iopub.execute_input": "2022-09-19T19:25:52.921119Z",
     "iopub.status.busy": "2022-09-19T19:25:52.920543Z",
     "iopub.status.idle": "2022-09-19T19:25:52.931750Z",
     "shell.execute_reply": "2022-09-19T19:25:52.930434Z"
    },
    "papermill": {
     "duration": 0.034233,
     "end_time": "2022-09-19T19:25:52.934825",
     "exception": false,
     "start_time": "2022-09-19T19:25:52.900592",
     "status": "completed"
    },
    "tags": []
   },
   "outputs": [
    {
     "data": {
      "text/plain": [
       "'ham\\tGo until jurong point, crazy.. Available only in bugis n great world la e buffet... Cine there got amore wat...'"
      ]
     },
     "execution_count": 6,
     "metadata": {},
     "output_type": "execute_result"
    }
   ],
   "source": [
    "messages[0]"
   ]
  },
  {
   "cell_type": "code",
   "execution_count": 7,
   "id": "da7b0d17",
   "metadata": {
    "execution": {
     "iopub.execute_input": "2022-09-19T19:25:52.974461Z",
     "iopub.status.busy": "2022-09-19T19:25:52.973643Z",
     "iopub.status.idle": "2022-09-19T19:25:52.980758Z",
     "shell.execute_reply": "2022-09-19T19:25:52.979573Z"
    },
    "papermill": {
     "duration": 0.02804,
     "end_time": "2022-09-19T19:25:52.983081",
     "exception": false,
     "start_time": "2022-09-19T19:25:52.955041",
     "status": "completed"
    },
    "tags": []
   },
   "outputs": [
    {
     "name": "stdout",
     "output_type": "stream",
     "text": [
      "0 ham\tGo until jurong point, crazy.. Available only in bugis n great world la e buffet... Cine there got amore wat...\n",
      "\n",
      "\n",
      "1 ham\tOk lar... Joking wif u oni...\n",
      "\n",
      "\n",
      "2 spam\tFree entry in 2 a wkly comp to win FA Cup final tkts 21st May 2005. Text FA to 87121 to receive entry question(std txt rate)T&C's apply 08452810075over18's\n",
      "\n",
      "\n",
      "3 ham\tU dun say so early hor... U c already then say...\n",
      "\n",
      "\n",
      "4 ham\tNah I don't think he goes to usf, he lives around here though\n",
      "\n",
      "\n",
      "5 spam\tFreeMsg Hey there darling it's been 3 week's now and no word back! I'd like some fun you up for it still? Tb ok! XxX std chgs to send, £1.50 to rcv\n",
      "\n",
      "\n",
      "6 ham\tEven my brother is not like to speak with me. They treat me like aids patent.\n",
      "\n",
      "\n",
      "7 ham\tAs per your request 'Melle Melle (Oru Minnaminunginte Nurungu Vettam)' has been set as your callertune for all Callers. Press *9 to copy your friends Callertune\n",
      "\n",
      "\n",
      "8 spam\tWINNER!! As a valued network customer you have been selected to receivea £900 prize reward! To claim call 09061701461. Claim code KL341. Valid 12 hours only.\n",
      "\n",
      "\n",
      "9 spam\tHad your mobile 11 months or more? U R entitled to Update to the latest colour mobiles with camera for Free! Call The Mobile Update Co FREE on 08002986030\n",
      "\n",
      "\n",
      "10 ham\tI'm gonna be home soon and i don't want to talk about this stuff anymore tonight, k? I've cried enough today.\n",
      "\n",
      "\n",
      "11 spam\tSIX chances to win CASH! From 100 to 20,000 pounds txt> CSH11 and send to 87575. Cost 150p/day, 6days, 16+ TsandCs apply Reply HL 4 info\n",
      "\n",
      "\n",
      "12 spam\tURGENT! You have won a 1 week FREE membership in our £100,000 Prize Jackpot! Txt the word: CLAIM to No: 81010 T&C www.dbuk.net LCCLTD POBOX 4403LDNW1A7RW18\n",
      "\n",
      "\n",
      "13 ham\tI've been searching for the right words to thank you for this breather. I promise i wont take your help for granted and will fulfil my promise. You have been wonderful and a blessing at all times.\n",
      "\n",
      "\n",
      "14 ham\tI HAVE A DATE ON SUNDAY WITH WILL!!\n",
      "\n",
      "\n"
     ]
    }
   ],
   "source": [
    "for messagem_number, message in enumerate(messages[:15]):\n",
    "  print(messagem_number, message)\n",
    "  print('\\n')"
   ]
  },
  {
   "cell_type": "code",
   "execution_count": 8,
   "id": "661849cd",
   "metadata": {
    "execution": {
     "iopub.execute_input": "2022-09-19T19:25:53.015170Z",
     "iopub.status.busy": "2022-09-19T19:25:53.014411Z",
     "iopub.status.idle": "2022-09-19T19:25:53.044540Z",
     "shell.execute_reply": "2022-09-19T19:25:53.043060Z"
    },
    "papermill": {
     "duration": 0.049997,
     "end_time": "2022-09-19T19:25:53.047428",
     "exception": false,
     "start_time": "2022-09-19T19:25:52.997431",
     "status": "completed"
    },
    "tags": []
   },
   "outputs": [],
   "source": [
    "messages = pd.read_csv('../input/spam-detection/SMSSpamCollection', sep='\\t', names=['label','message'])"
   ]
  },
  {
   "cell_type": "code",
   "execution_count": 9,
   "id": "e8740b6a",
   "metadata": {
    "execution": {
     "iopub.execute_input": "2022-09-19T19:25:53.079058Z",
     "iopub.status.busy": "2022-09-19T19:25:53.078642Z",
     "iopub.status.idle": "2022-09-19T19:25:53.098286Z",
     "shell.execute_reply": "2022-09-19T19:25:53.096630Z"
    },
    "papermill": {
     "duration": 0.039551,
     "end_time": "2022-09-19T19:25:53.101220",
     "exception": false,
     "start_time": "2022-09-19T19:25:53.061669",
     "status": "completed"
    },
    "tags": []
   },
   "outputs": [
    {
     "data": {
      "text/html": [
       "<div>\n",
       "<style scoped>\n",
       "    .dataframe tbody tr th:only-of-type {\n",
       "        vertical-align: middle;\n",
       "    }\n",
       "\n",
       "    .dataframe tbody tr th {\n",
       "        vertical-align: top;\n",
       "    }\n",
       "\n",
       "    .dataframe thead th {\n",
       "        text-align: right;\n",
       "    }\n",
       "</style>\n",
       "<table border=\"1\" class=\"dataframe\">\n",
       "  <thead>\n",
       "    <tr style=\"text-align: right;\">\n",
       "      <th></th>\n",
       "      <th>label</th>\n",
       "      <th>message</th>\n",
       "    </tr>\n",
       "  </thead>\n",
       "  <tbody>\n",
       "    <tr>\n",
       "      <th>0</th>\n",
       "      <td>ham</td>\n",
       "      <td>Go until jurong point, crazy.. Available only ...</td>\n",
       "    </tr>\n",
       "    <tr>\n",
       "      <th>1</th>\n",
       "      <td>ham</td>\n",
       "      <td>Ok lar... Joking wif u oni...</td>\n",
       "    </tr>\n",
       "    <tr>\n",
       "      <th>2</th>\n",
       "      <td>spam</td>\n",
       "      <td>Free entry in 2 a wkly comp to win FA Cup fina...</td>\n",
       "    </tr>\n",
       "    <tr>\n",
       "      <th>3</th>\n",
       "      <td>ham</td>\n",
       "      <td>U dun say so early hor... U c already then say...</td>\n",
       "    </tr>\n",
       "    <tr>\n",
       "      <th>4</th>\n",
       "      <td>ham</td>\n",
       "      <td>Nah I don't think he goes to usf, he lives aro...</td>\n",
       "    </tr>\n",
       "  </tbody>\n",
       "</table>\n",
       "</div>"
      ],
      "text/plain": [
       "  label                                            message\n",
       "0   ham  Go until jurong point, crazy.. Available only ...\n",
       "1   ham                      Ok lar... Joking wif u oni...\n",
       "2  spam  Free entry in 2 a wkly comp to win FA Cup fina...\n",
       "3   ham  U dun say so early hor... U c already then say...\n",
       "4   ham  Nah I don't think he goes to usf, he lives aro..."
      ]
     },
     "execution_count": 9,
     "metadata": {},
     "output_type": "execute_result"
    }
   ],
   "source": [
    "messages.head()"
   ]
  },
  {
   "cell_type": "markdown",
   "id": "be814136",
   "metadata": {
    "papermill": {
     "duration": 0.015089,
     "end_time": "2022-09-19T19:25:53.131477",
     "exception": false,
     "start_time": "2022-09-19T19:25:53.116388",
     "status": "completed"
    },
    "tags": []
   },
   "source": [
    "# Análise exploratória de dados"
   ]
  },
  {
   "cell_type": "code",
   "execution_count": 10,
   "id": "359a60d1",
   "metadata": {
    "execution": {
     "iopub.execute_input": "2022-09-19T19:25:53.162181Z",
     "iopub.status.busy": "2022-09-19T19:25:53.161771Z",
     "iopub.status.idle": "2022-09-19T19:25:53.191980Z",
     "shell.execute_reply": "2022-09-19T19:25:53.190632Z"
    },
    "papermill": {
     "duration": 0.048656,
     "end_time": "2022-09-19T19:25:53.194763",
     "exception": false,
     "start_time": "2022-09-19T19:25:53.146107",
     "status": "completed"
    },
    "tags": []
   },
   "outputs": [
    {
     "data": {
      "text/html": [
       "<div>\n",
       "<style scoped>\n",
       "    .dataframe tbody tr th:only-of-type {\n",
       "        vertical-align: middle;\n",
       "    }\n",
       "\n",
       "    .dataframe tbody tr th {\n",
       "        vertical-align: top;\n",
       "    }\n",
       "\n",
       "    .dataframe thead th {\n",
       "        text-align: right;\n",
       "    }\n",
       "</style>\n",
       "<table border=\"1\" class=\"dataframe\">\n",
       "  <thead>\n",
       "    <tr style=\"text-align: right;\">\n",
       "      <th></th>\n",
       "      <th>label</th>\n",
       "      <th>message</th>\n",
       "    </tr>\n",
       "  </thead>\n",
       "  <tbody>\n",
       "    <tr>\n",
       "      <th>count</th>\n",
       "      <td>5572</td>\n",
       "      <td>5572</td>\n",
       "    </tr>\n",
       "    <tr>\n",
       "      <th>unique</th>\n",
       "      <td>2</td>\n",
       "      <td>5169</td>\n",
       "    </tr>\n",
       "    <tr>\n",
       "      <th>top</th>\n",
       "      <td>ham</td>\n",
       "      <td>Sorry, I'll call later</td>\n",
       "    </tr>\n",
       "    <tr>\n",
       "      <th>freq</th>\n",
       "      <td>4825</td>\n",
       "      <td>30</td>\n",
       "    </tr>\n",
       "  </tbody>\n",
       "</table>\n",
       "</div>"
      ],
      "text/plain": [
       "       label                 message\n",
       "count   5572                    5572\n",
       "unique     2                    5169\n",
       "top      ham  Sorry, I'll call later\n",
       "freq    4825                      30"
      ]
     },
     "execution_count": 10,
     "metadata": {},
     "output_type": "execute_result"
    }
   ],
   "source": [
    "messages.describe()"
   ]
  },
  {
   "cell_type": "code",
   "execution_count": 11,
   "id": "cf138fe2",
   "metadata": {
    "execution": {
     "iopub.execute_input": "2022-09-19T19:25:53.226784Z",
     "iopub.status.busy": "2022-09-19T19:25:53.226356Z",
     "iopub.status.idle": "2022-09-19T19:25:53.259194Z",
     "shell.execute_reply": "2022-09-19T19:25:53.258281Z"
    },
    "papermill": {
     "duration": 0.052061,
     "end_time": "2022-09-19T19:25:53.261770",
     "exception": false,
     "start_time": "2022-09-19T19:25:53.209709",
     "status": "completed"
    },
    "tags": []
   },
   "outputs": [
    {
     "data": {
      "text/html": [
       "<div>\n",
       "<style scoped>\n",
       "    .dataframe tbody tr th:only-of-type {\n",
       "        vertical-align: middle;\n",
       "    }\n",
       "\n",
       "    .dataframe tbody tr th {\n",
       "        vertical-align: top;\n",
       "    }\n",
       "\n",
       "    .dataframe thead tr th {\n",
       "        text-align: left;\n",
       "    }\n",
       "\n",
       "    .dataframe thead tr:last-of-type th {\n",
       "        text-align: right;\n",
       "    }\n",
       "</style>\n",
       "<table border=\"1\" class=\"dataframe\">\n",
       "  <thead>\n",
       "    <tr>\n",
       "      <th></th>\n",
       "      <th colspan=\"4\" halign=\"left\">message</th>\n",
       "    </tr>\n",
       "    <tr>\n",
       "      <th></th>\n",
       "      <th>count</th>\n",
       "      <th>unique</th>\n",
       "      <th>top</th>\n",
       "      <th>freq</th>\n",
       "    </tr>\n",
       "    <tr>\n",
       "      <th>label</th>\n",
       "      <th></th>\n",
       "      <th></th>\n",
       "      <th></th>\n",
       "      <th></th>\n",
       "    </tr>\n",
       "  </thead>\n",
       "  <tbody>\n",
       "    <tr>\n",
       "      <th>ham</th>\n",
       "      <td>4825</td>\n",
       "      <td>4516</td>\n",
       "      <td>Sorry, I'll call later</td>\n",
       "      <td>30</td>\n",
       "    </tr>\n",
       "    <tr>\n",
       "      <th>spam</th>\n",
       "      <td>747</td>\n",
       "      <td>653</td>\n",
       "      <td>Please call our customer service representativ...</td>\n",
       "      <td>4</td>\n",
       "    </tr>\n",
       "  </tbody>\n",
       "</table>\n",
       "</div>"
      ],
      "text/plain": [
       "      message                                                               \n",
       "        count unique                                                top freq\n",
       "label                                                                       \n",
       "ham      4825   4516                             Sorry, I'll call later   30\n",
       "spam      747    653  Please call our customer service representativ...    4"
      ]
     },
     "execution_count": 11,
     "metadata": {},
     "output_type": "execute_result"
    }
   ],
   "source": [
    "messages.groupby('label').describe()"
   ]
  },
  {
   "cell_type": "code",
   "execution_count": 12,
   "id": "ca3e087e",
   "metadata": {
    "execution": {
     "iopub.execute_input": "2022-09-19T19:25:53.293047Z",
     "iopub.status.busy": "2022-09-19T19:25:53.292290Z",
     "iopub.status.idle": "2022-09-19T19:25:53.307757Z",
     "shell.execute_reply": "2022-09-19T19:25:53.306628Z"
    },
    "papermill": {
     "duration": 0.033617,
     "end_time": "2022-09-19T19:25:53.310152",
     "exception": false,
     "start_time": "2022-09-19T19:25:53.276535",
     "status": "completed"
    },
    "tags": []
   },
   "outputs": [
    {
     "data": {
      "text/html": [
       "<div>\n",
       "<style scoped>\n",
       "    .dataframe tbody tr th:only-of-type {\n",
       "        vertical-align: middle;\n",
       "    }\n",
       "\n",
       "    .dataframe tbody tr th {\n",
       "        vertical-align: top;\n",
       "    }\n",
       "\n",
       "    .dataframe thead th {\n",
       "        text-align: right;\n",
       "    }\n",
       "</style>\n",
       "<table border=\"1\" class=\"dataframe\">\n",
       "  <thead>\n",
       "    <tr style=\"text-align: right;\">\n",
       "      <th></th>\n",
       "      <th>label</th>\n",
       "      <th>message</th>\n",
       "      <th>length</th>\n",
       "    </tr>\n",
       "  </thead>\n",
       "  <tbody>\n",
       "    <tr>\n",
       "      <th>0</th>\n",
       "      <td>ham</td>\n",
       "      <td>Go until jurong point, crazy.. Available only ...</td>\n",
       "      <td>111</td>\n",
       "    </tr>\n",
       "    <tr>\n",
       "      <th>1</th>\n",
       "      <td>ham</td>\n",
       "      <td>Ok lar... Joking wif u oni...</td>\n",
       "      <td>29</td>\n",
       "    </tr>\n",
       "    <tr>\n",
       "      <th>2</th>\n",
       "      <td>spam</td>\n",
       "      <td>Free entry in 2 a wkly comp to win FA Cup fina...</td>\n",
       "      <td>155</td>\n",
       "    </tr>\n",
       "    <tr>\n",
       "      <th>3</th>\n",
       "      <td>ham</td>\n",
       "      <td>U dun say so early hor... U c already then say...</td>\n",
       "      <td>49</td>\n",
       "    </tr>\n",
       "    <tr>\n",
       "      <th>4</th>\n",
       "      <td>ham</td>\n",
       "      <td>Nah I don't think he goes to usf, he lives aro...</td>\n",
       "      <td>61</td>\n",
       "    </tr>\n",
       "  </tbody>\n",
       "</table>\n",
       "</div>"
      ],
      "text/plain": [
       "  label                                            message  length\n",
       "0   ham  Go until jurong point, crazy.. Available only ...     111\n",
       "1   ham                      Ok lar... Joking wif u oni...      29\n",
       "2  spam  Free entry in 2 a wkly comp to win FA Cup fina...     155\n",
       "3   ham  U dun say so early hor... U c already then say...      49\n",
       "4   ham  Nah I don't think he goes to usf, he lives aro...      61"
      ]
     },
     "execution_count": 12,
     "metadata": {},
     "output_type": "execute_result"
    }
   ],
   "source": [
    "messages['length']=messages['message'].apply(len)\n",
    "messages.head()"
   ]
  },
  {
   "cell_type": "code",
   "execution_count": 13,
   "id": "6d59e6b6",
   "metadata": {
    "execution": {
     "iopub.execute_input": "2022-09-19T19:25:53.342363Z",
     "iopub.status.busy": "2022-09-19T19:25:53.341882Z",
     "iopub.status.idle": "2022-09-19T19:25:53.901694Z",
     "shell.execute_reply": "2022-09-19T19:25:53.900371Z"
    },
    "papermill": {
     "duration": 0.579612,
     "end_time": "2022-09-19T19:25:53.905013",
     "exception": false,
     "start_time": "2022-09-19T19:25:53.325401",
     "status": "completed"
    },
    "tags": []
   },
   "outputs": [
    {
     "data": {
      "text/plain": [
       "<AxesSubplot:ylabel='Frequency'>"
      ]
     },
     "execution_count": 13,
     "metadata": {},
     "output_type": "execute_result"
    },
    {
     "data": {
      "image/png": "[encoded data removed]",
      "text/plain": [
       "<Figure size 864x576 with 1 Axes>"
      ]
     },
     "metadata": {},
     "output_type": "display_data"
    }
   ],
   "source": [
    "sns.set_style('darkgrid')\n",
    "plt.figure(figsize=(12, 8))\n",
    "messages['length'].plot(kind='hist', bins=150)"
   ]
  },
  {
   "cell_type": "code",
   "execution_count": 14,
   "id": "b09c646d",
   "metadata": {
    "execution": {
     "iopub.execute_input": "2022-09-19T19:25:53.937889Z",
     "iopub.status.busy": "2022-09-19T19:25:53.937381Z",
     "iopub.status.idle": "2022-09-19T19:25:53.950735Z",
     "shell.execute_reply": "2022-09-19T19:25:53.949598Z"
    },
    "papermill": {
     "duration": 0.032314,
     "end_time": "2022-09-19T19:25:53.953343",
     "exception": false,
     "start_time": "2022-09-19T19:25:53.921029",
     "status": "completed"
    },
    "tags": []
   },
   "outputs": [
    {
     "data": {
      "text/plain": [
       "count    5572.000000\n",
       "mean       80.489950\n",
       "std        59.942907\n",
       "min         2.000000\n",
       "25%        36.000000\n",
       "50%        62.000000\n",
       "75%       122.000000\n",
       "max       910.000000\n",
       "Name: length, dtype: float64"
      ]
     },
     "execution_count": 14,
     "metadata": {},
     "output_type": "execute_result"
    }
   ],
   "source": [
    "messages['length'].describe()"
   ]
  },
  {
   "cell_type": "code",
   "execution_count": 15,
   "id": "a8775ffa",
   "metadata": {
    "execution": {
     "iopub.execute_input": "2022-09-19T19:25:53.987004Z",
     "iopub.status.busy": "2022-09-19T19:25:53.986306Z",
     "iopub.status.idle": "2022-09-19T19:25:53.994810Z",
     "shell.execute_reply": "2022-09-19T19:25:53.993719Z"
    },
    "papermill": {
     "duration": 0.027869,
     "end_time": "2022-09-19T19:25:53.997013",
     "exception": false,
     "start_time": "2022-09-19T19:25:53.969144",
     "status": "completed"
    },
    "tags": []
   },
   "outputs": [
    {
     "data": {
      "text/plain": [
       "\"For me the love should start with attraction.i should feel that I need her every time around me.she should be the first thing which comes in my thoughts.I would start the day and end it with her.she should be there every time I dream.love will be then when my every breath has her name.my life should happen around her.my life will be named to her.I would cry for her.will give all my happiness and take all her sorrows.I will be ready to fight with anyone for her.I will be in love when I will be doing the craziest things for her.love will be when I don't have to proove anyone that my girl is the most beautiful lady on the whole planet.I will always be singing praises for her.love will be when I start up making chicken curry and end up makiing sambar.life will be the most beautiful then.will get every morning and thank god for the day because she is with me.I would like to say a lot..will tell later..\""
      ]
     },
     "execution_count": 15,
     "metadata": {},
     "output_type": "execute_result"
    }
   ],
   "source": [
    "messages[messages['length']==910]['message'].iloc[0]"
   ]
  },
  {
   "cell_type": "code",
   "execution_count": 16,
   "id": "6607e0d8",
   "metadata": {
    "execution": {
     "iopub.execute_input": "2022-09-19T19:25:54.030540Z",
     "iopub.status.busy": "2022-09-19T19:25:54.030092Z",
     "iopub.status.idle": "2022-09-19T19:25:54.658947Z",
     "shell.execute_reply": "2022-09-19T19:25:54.658054Z"
    },
    "papermill": {
     "duration": 0.648367,
     "end_time": "2022-09-19T19:25:54.661115",
     "exception": false,
     "start_time": "2022-09-19T19:25:54.012748",
     "status": "completed"
    },
    "tags": []
   },
   "outputs": [
    {
     "data": {
      "text/plain": [
       "array([<AxesSubplot:title={'center':'ham'}>,\n",
       "       <AxesSubplot:title={'center':'spam'}>], dtype=object)"
      ]
     },
     "execution_count": 16,
     "metadata": {},
     "output_type": "execute_result"
    },
    {
     "data": {
      "image/png": "[encoded data removed]",
      "text/plain": [
       "<Figure size 864x432 with 2 Axes>"
      ]
     },
     "metadata": {},
     "output_type": "display_data"
    }
   ],
   "source": [
    "messages.hist(column='length', by='label',bins=70, figsize=(12,6))"
   ]
  },
  {
   "cell_type": "markdown",
   "id": "7cb48ad8",
   "metadata": {
    "papermill": {
     "duration": 0.015561,
     "end_time": "2022-09-19T19:25:54.693117",
     "exception": false,
     "start_time": "2022-09-19T19:25:54.677556",
     "status": "completed"
    },
    "tags": []
   },
   "source": [
    "# Exemplos de Pré-processamento de texto"
   ]
  },
  {
   "cell_type": "code",
   "execution_count": 17,
   "id": "8c6137ff",
   "metadata": {
    "execution": {
     "iopub.execute_input": "2022-09-19T19:25:54.728202Z",
     "iopub.status.busy": "2022-09-19T19:25:54.727182Z",
     "iopub.status.idle": "2022-09-19T19:25:54.731900Z",
     "shell.execute_reply": "2022-09-19T19:25:54.730799Z"
    },
    "papermill": {
     "duration": 0.025363,
     "end_time": "2022-09-19T19:25:54.734402",
     "exception": false,
     "start_time": "2022-09-19T19:25:54.709039",
     "status": "completed"
    },
    "tags": []
   },
   "outputs": [],
   "source": [
    "#Primeiro removendo a pontuação\n",
    "mess='Mensagem de exemplo! Notem: ela possui pontuação'"
   ]
  },
  {
   "cell_type": "code",
   "execution_count": 18,
   "id": "91b8cc87",
   "metadata": {
    "execution": {
     "iopub.execute_input": "2022-09-19T19:25:54.768100Z",
     "iopub.status.busy": "2022-09-19T19:25:54.767645Z",
     "iopub.status.idle": "2022-09-19T19:25:54.774882Z",
     "shell.execute_reply": "2022-09-19T19:25:54.773724Z"
    },
    "papermill": {
     "duration": 0.026866,
     "end_time": "2022-09-19T19:25:54.777261",
     "exception": false,
     "start_time": "2022-09-19T19:25:54.750395",
     "status": "completed"
    },
    "tags": []
   },
   "outputs": [
    {
     "data": {
      "text/plain": [
       "'!\"#$%&\\'()*+,-./:;<=>?@[\\\\]^_`{|}~'"
      ]
     },
     "execution_count": 18,
     "metadata": {},
     "output_type": "execute_result"
    }
   ],
   "source": [
    "string.punctuation"
   ]
  },
  {
   "cell_type": "code",
   "execution_count": 19,
   "id": "16a82075",
   "metadata": {
    "execution": {
     "iopub.execute_input": "2022-09-19T19:25:54.815140Z",
     "iopub.status.busy": "2022-09-19T19:25:54.813706Z",
     "iopub.status.idle": "2022-09-19T19:25:54.821004Z",
     "shell.execute_reply": "2022-09-19T19:25:54.819646Z"
    },
    "papermill": {
     "duration": 0.031555,
     "end_time": "2022-09-19T19:25:54.824804",
     "exception": false,
     "start_time": "2022-09-19T19:25:54.793249",
     "status": "completed"
    },
    "tags": []
   },
   "outputs": [],
   "source": [
    "sempot = [car for car in mess if car not in string.punctuation]"
   ]
  },
  {
   "cell_type": "code",
   "execution_count": 20,
   "id": "d4a66bd4",
   "metadata": {
    "execution": {
     "iopub.execute_input": "2022-09-19T19:25:54.867323Z",
     "iopub.status.busy": "2022-09-19T19:25:54.866474Z",
     "iopub.status.idle": "2022-09-19T19:25:54.875414Z",
     "shell.execute_reply": "2022-09-19T19:25:54.874198Z"
    },
    "papermill": {
     "duration": 0.03322,
     "end_time": "2022-09-19T19:25:54.878763",
     "exception": false,
     "start_time": "2022-09-19T19:25:54.845543",
     "status": "completed"
    },
    "tags": []
   },
   "outputs": [
    {
     "data": {
      "text/plain": [
       "['M',\n",
       " 'e',\n",
       " 'n',\n",
       " 's',\n",
       " 'a',\n",
       " 'g',\n",
       " 'e',\n",
       " 'm',\n",
       " ' ',\n",
       " 'd',\n",
       " 'e',\n",
       " ' ',\n",
       " 'e',\n",
       " 'x',\n",
       " 'e',\n",
       " 'm',\n",
       " 'p',\n",
       " 'l',\n",
       " 'o',\n",
       " ' ',\n",
       " 'N',\n",
       " 'o',\n",
       " 't',\n",
       " 'e',\n",
       " 'm',\n",
       " ' ',\n",
       " 'e',\n",
       " 'l',\n",
       " 'a',\n",
       " ' ',\n",
       " 'p',\n",
       " 'o',\n",
       " 's',\n",
       " 's',\n",
       " 'u',\n",
       " 'i',\n",
       " ' ',\n",
       " 'p',\n",
       " 'o',\n",
       " 'n',\n",
       " 't',\n",
       " 'u',\n",
       " 'a',\n",
       " 'ç',\n",
       " 'ã',\n",
       " 'o']"
      ]
     },
     "execution_count": 20,
     "metadata": {},
     "output_type": "execute_result"
    }
   ],
   "source": [
    "sempot"
   ]
  },
  {
   "cell_type": "code",
   "execution_count": 21,
   "id": "d0ac2405",
   "metadata": {
    "execution": {
     "iopub.execute_input": "2022-09-19T19:25:54.917468Z",
     "iopub.status.busy": "2022-09-19T19:25:54.917038Z",
     "iopub.status.idle": "2022-09-19T19:25:54.924255Z",
     "shell.execute_reply": "2022-09-19T19:25:54.923059Z"
    },
    "papermill": {
     "duration": 0.028116,
     "end_time": "2022-09-19T19:25:54.926830",
     "exception": false,
     "start_time": "2022-09-19T19:25:54.898714",
     "status": "completed"
    },
    "tags": []
   },
   "outputs": [
    {
     "data": {
      "text/plain": [
       "'Mensagem de exemplo Notem ela possui pontuação'"
      ]
     },
     "execution_count": 21,
     "metadata": {},
     "output_type": "execute_result"
    }
   ],
   "source": [
    "sempot = ''.join(sempot)\n",
    "sempot"
   ]
  },
  {
   "cell_type": "code",
   "execution_count": 22,
   "id": "de2c935c",
   "metadata": {
    "execution": {
     "iopub.execute_input": "2022-09-19T19:25:54.965665Z",
     "iopub.status.busy": "2022-09-19T19:25:54.965209Z",
     "iopub.status.idle": "2022-09-19T19:25:54.977992Z",
     "shell.execute_reply": "2022-09-19T19:25:54.976277Z"
    },
    "papermill": {
     "duration": 0.036462,
     "end_time": "2022-09-19T19:25:54.980892",
     "exception": false,
     "start_time": "2022-09-19T19:25:54.944430",
     "status": "completed"
    },
    "tags": []
   },
   "outputs": [],
   "source": [
    "#segundo remover as stopwords\n",
    "from nltk.corpus import stopwords"
   ]
  },
  {
   "cell_type": "code",
   "execution_count": 23,
   "id": "44655c2d",
   "metadata": {
    "execution": {
     "iopub.execute_input": "2022-09-19T19:25:55.016596Z",
     "iopub.status.busy": "2022-09-19T19:25:55.015849Z",
     "iopub.status.idle": "2022-09-19T19:25:55.031786Z",
     "shell.execute_reply": "2022-09-19T19:25:55.030596Z"
    },
    "papermill": {
     "duration": 0.036311,
     "end_time": "2022-09-19T19:25:55.034132",
     "exception": false,
     "start_time": "2022-09-19T19:25:54.997821",
     "status": "completed"
    },
    "tags": []
   },
   "outputs": [
    {
     "data": {
      "text/plain": [
       "['i',\n",
       " 'me',\n",
       " 'my',\n",
       " 'myself',\n",
       " 'we',\n",
       " 'our',\n",
       " 'ours',\n",
       " 'ourselves',\n",
       " 'you',\n",
       " \"you're\",\n",
       " \"you've\",\n",
       " \"you'll\",\n",
       " \"you'd\",\n",
       " 'your',\n",
       " 'yours',\n",
       " 'yourself',\n",
       " 'yourselves',\n",
       " 'he',\n",
       " 'him',\n",
       " 'his',\n",
       " 'himself',\n",
       " 'she',\n",
       " \"she's\",\n",
       " 'her',\n",
       " 'hers',\n",
       " 'herself',\n",
       " 'it',\n",
       " \"it's\",\n",
       " 'its',\n",
       " 'itself',\n",
       " 'they',\n",
       " 'them',\n",
       " 'their',\n",
       " 'theirs',\n",
       " 'themselves',\n",
       " 'what',\n",
       " 'which',\n",
       " 'who',\n",
       " 'whom',\n",
       " 'this',\n",
       " 'that',\n",
       " \"that'll\",\n",
       " 'these',\n",
       " 'those',\n",
       " 'am',\n",
       " 'is',\n",
       " 'are',\n",
       " 'was',\n",
       " 'were',\n",
       " 'be',\n",
       " 'been',\n",
       " 'being',\n",
       " 'have',\n",
       " 'has',\n",
       " 'had',\n",
       " 'having',\n",
       " 'do',\n",
       " 'does',\n",
       " 'did',\n",
       " 'doing',\n",
       " 'a',\n",
       " 'an',\n",
       " 'the',\n",
       " 'and',\n",
       " 'but',\n",
       " 'if',\n",
       " 'or',\n",
       " 'because',\n",
       " 'as',\n",
       " 'until',\n",
       " 'while',\n",
       " 'of',\n",
       " 'at',\n",
       " 'by',\n",
       " 'for',\n",
       " 'with',\n",
       " 'about',\n",
       " 'against',\n",
       " 'between',\n",
       " 'into',\n",
       " 'through',\n",
       " 'during',\n",
       " 'before',\n",
       " 'after',\n",
       " 'above',\n",
       " 'below',\n",
       " 'to',\n",
       " 'from',\n",
       " 'up',\n",
       " 'down',\n",
       " 'in',\n",
       " 'out',\n",
       " 'on',\n",
       " 'off',\n",
       " 'over',\n",
       " 'under',\n",
       " 'again',\n",
       " 'further',\n",
       " 'then',\n",
       " 'once',\n",
       " 'here',\n",
       " 'there',\n",
       " 'when',\n",
       " 'where',\n",
       " 'why',\n",
       " 'how',\n",
       " 'all',\n",
       " 'any',\n",
       " 'both',\n",
       " 'each',\n",
       " 'few',\n",
       " 'more',\n",
       " 'most',\n",
       " 'other',\n",
       " 'some',\n",
       " 'such',\n",
       " 'no',\n",
       " 'nor',\n",
       " 'not',\n",
       " 'only',\n",
       " 'own',\n",
       " 'same',\n",
       " 'so',\n",
       " 'than',\n",
       " 'too',\n",
       " 'very',\n",
       " 's',\n",
       " 't',\n",
       " 'can',\n",
       " 'will',\n",
       " 'just',\n",
       " 'don',\n",
       " \"don't\",\n",
       " 'should',\n",
       " \"should've\",\n",
       " 'now',\n",
       " 'd',\n",
       " 'll',\n",
       " 'm',\n",
       " 'o',\n",
       " 're',\n",
       " 've',\n",
       " 'y',\n",
       " 'ain',\n",
       " 'aren',\n",
       " \"aren't\",\n",
       " 'couldn',\n",
       " \"couldn't\",\n",
       " 'didn',\n",
       " \"didn't\",\n",
       " 'doesn',\n",
       " \"doesn't\",\n",
       " 'hadn',\n",
       " \"hadn't\",\n",
       " 'hasn',\n",
       " \"hasn't\",\n",
       " 'haven',\n",
       " \"haven't\",\n",
       " 'isn',\n",
       " \"isn't\",\n",
       " 'ma',\n",
       " 'mightn',\n",
       " \"mightn't\",\n",
       " 'mustn',\n",
       " \"mustn't\",\n",
       " 'needn',\n",
       " \"needn't\",\n",
       " 'shan',\n",
       " \"shan't\",\n",
       " 'shouldn',\n",
       " \"shouldn't\",\n",
       " 'wasn',\n",
       " \"wasn't\",\n",
       " 'weren',\n",
       " \"weren't\",\n",
       " 'won',\n",
       " \"won't\",\n",
       " 'wouldn',\n",
       " \"wouldn't\"]"
      ]
     },
     "execution_count": 23,
     "metadata": {},
     "output_type": "execute_result"
    }
   ],
   "source": [
    "stopwords.words('english')"
   ]
  },
  {
   "cell_type": "code",
   "execution_count": 24,
   "id": "ad294ca9",
   "metadata": {
    "execution": {
     "iopub.execute_input": "2022-09-19T19:25:55.070206Z",
     "iopub.status.busy": "2022-09-19T19:25:55.069420Z",
     "iopub.status.idle": "2022-09-19T19:25:55.074444Z",
     "shell.execute_reply": "2022-09-19T19:25:55.073545Z"
    },
    "papermill": {
     "duration": 0.025658,
     "end_time": "2022-09-19T19:25:55.076794",
     "exception": false,
     "start_time": "2022-09-19T19:25:55.051136",
     "status": "completed"
    },
    "tags": []
   },
   "outputs": [],
   "source": [
    "tst = 'Sample message! Notice: it has punctuation.'"
   ]
  },
  {
   "cell_type": "code",
   "execution_count": 25,
   "id": "fadb0f22",
   "metadata": {
    "execution": {
     "iopub.execute_input": "2022-09-19T19:25:55.116610Z",
     "iopub.status.busy": "2022-09-19T19:25:55.115773Z",
     "iopub.status.idle": "2022-09-19T19:25:55.123223Z",
     "shell.execute_reply": "2022-09-19T19:25:55.122254Z"
    },
    "papermill": {
     "duration": 0.032143,
     "end_time": "2022-09-19T19:25:55.125761",
     "exception": false,
     "start_time": "2022-09-19T19:25:55.093618",
     "status": "completed"
    },
    "tags": []
   },
   "outputs": [],
   "source": [
    "clean_mess=[word for word in tst.split() if word.lower() not in stopwords.words('english') ]"
   ]
  },
  {
   "cell_type": "code",
   "execution_count": 26,
   "id": "25970f4b",
   "metadata": {
    "execution": {
     "iopub.execute_input": "2022-09-19T19:25:55.163027Z",
     "iopub.status.busy": "2022-09-19T19:25:55.162458Z",
     "iopub.status.idle": "2022-09-19T19:25:55.170129Z",
     "shell.execute_reply": "2022-09-19T19:25:55.168992Z"
    },
    "papermill": {
     "duration": 0.028517,
     "end_time": "2022-09-19T19:25:55.172374",
     "exception": false,
     "start_time": "2022-09-19T19:25:55.143857",
     "status": "completed"
    },
    "tags": []
   },
   "outputs": [
    {
     "data": {
      "text/plain": [
       "['Sample', 'message!', 'Notice:', 'punctuation.']"
      ]
     },
     "execution_count": 26,
     "metadata": {},
     "output_type": "execute_result"
    }
   ],
   "source": [
    "clean_mess"
   ]
  },
  {
   "cell_type": "markdown",
   "id": "e37f37fa",
   "metadata": {
    "papermill": {
     "duration": 0.024895,
     "end_time": "2022-09-19T19:25:55.214633",
     "exception": false,
     "start_time": "2022-09-19T19:25:55.189738",
     "status": "completed"
    },
    "tags": []
   },
   "source": [
    "# Pré-processamentos dos dados"
   ]
  },
  {
   "cell_type": "code",
   "execution_count": 27,
   "id": "fdd70d84",
   "metadata": {
    "execution": {
     "iopub.execute_input": "2022-09-19T19:25:55.254369Z",
     "iopub.status.busy": "2022-09-19T19:25:55.253917Z",
     "iopub.status.idle": "2022-09-19T19:25:55.260337Z",
     "shell.execute_reply": "2022-09-19T19:25:55.259091Z"
    },
    "papermill": {
     "duration": 0.026774,
     "end_time": "2022-09-19T19:25:55.262673",
     "exception": false,
     "start_time": "2022-09-19T19:25:55.235899",
     "status": "completed"
    },
    "tags": []
   },
   "outputs": [],
   "source": [
    "def text_process(mess):\n",
    "   \n",
    "    #Retira as pontuações\n",
    "    nopunc = [char for char in mess if char not in string.punctuation]\n",
    "\n",
    "    # Junbtar para formar novamente as strings\n",
    "    nopunc = ''.join(nopunc)\n",
    "    \n",
    "    # Remover as stopwords\n",
    "    sms = [word for word in nopunc.split() if word.lower() not in stopwords.words('english')]\n",
    "    return sms"
   ]
  },
  {
   "cell_type": "code",
   "execution_count": 28,
   "id": "a4ab215b",
   "metadata": {
    "execution": {
     "iopub.execute_input": "2022-09-19T19:25:55.298176Z",
     "iopub.status.busy": "2022-09-19T19:25:55.297370Z",
     "iopub.status.idle": "2022-09-19T19:25:55.308691Z",
     "shell.execute_reply": "2022-09-19T19:25:55.307606Z"
    },
    "papermill": {
     "duration": 0.031728,
     "end_time": "2022-09-19T19:25:55.311012",
     "exception": false,
     "start_time": "2022-09-19T19:25:55.279284",
     "status": "completed"
    },
    "tags": []
   },
   "outputs": [
    {
     "data": {
      "text/html": [
       "<div>\n",
       "<style scoped>\n",
       "    .dataframe tbody tr th:only-of-type {\n",
       "        vertical-align: middle;\n",
       "    }\n",
       "\n",
       "    .dataframe tbody tr th {\n",
       "        vertical-align: top;\n",
       "    }\n",
       "\n",
       "    .dataframe thead th {\n",
       "        text-align: right;\n",
       "    }\n",
       "</style>\n",
       "<table border=\"1\" class=\"dataframe\">\n",
       "  <thead>\n",
       "    <tr style=\"text-align: right;\">\n",
       "      <th></th>\n",
       "      <th>label</th>\n",
       "      <th>message</th>\n",
       "      <th>length</th>\n",
       "    </tr>\n",
       "  </thead>\n",
       "  <tbody>\n",
       "    <tr>\n",
       "      <th>0</th>\n",
       "      <td>ham</td>\n",
       "      <td>Go until jurong point, crazy.. Available only ...</td>\n",
       "      <td>111</td>\n",
       "    </tr>\n",
       "    <tr>\n",
       "      <th>1</th>\n",
       "      <td>ham</td>\n",
       "      <td>Ok lar... Joking wif u oni...</td>\n",
       "      <td>29</td>\n",
       "    </tr>\n",
       "    <tr>\n",
       "      <th>2</th>\n",
       "      <td>spam</td>\n",
       "      <td>Free entry in 2 a wkly comp to win FA Cup fina...</td>\n",
       "      <td>155</td>\n",
       "    </tr>\n",
       "    <tr>\n",
       "      <th>3</th>\n",
       "      <td>ham</td>\n",
       "      <td>U dun say so early hor... U c already then say...</td>\n",
       "      <td>49</td>\n",
       "    </tr>\n",
       "    <tr>\n",
       "      <th>4</th>\n",
       "      <td>ham</td>\n",
       "      <td>Nah I don't think he goes to usf, he lives aro...</td>\n",
       "      <td>61</td>\n",
       "    </tr>\n",
       "  </tbody>\n",
       "</table>\n",
       "</div>"
      ],
      "text/plain": [
       "  label                                            message  length\n",
       "0   ham  Go until jurong point, crazy.. Available only ...     111\n",
       "1   ham                      Ok lar... Joking wif u oni...      29\n",
       "2  spam  Free entry in 2 a wkly comp to win FA Cup fina...     155\n",
       "3   ham  U dun say so early hor... U c already then say...      49\n",
       "4   ham  Nah I don't think he goes to usf, he lives aro...      61"
      ]
     },
     "execution_count": 28,
     "metadata": {},
     "output_type": "execute_result"
    }
   ],
   "source": [
    "messages.head()"
   ]
  },
  {
   "cell_type": "code",
   "execution_count": 29,
   "id": "41045ef2",
   "metadata": {
    "execution": {
     "iopub.execute_input": "2022-09-19T19:25:55.347219Z",
     "iopub.status.busy": "2022-09-19T19:25:55.346412Z",
     "iopub.status.idle": "2022-09-19T19:25:55.368291Z",
     "shell.execute_reply": "2022-09-19T19:25:55.367189Z"
    },
    "papermill": {
     "duration": 0.042835,
     "end_time": "2022-09-19T19:25:55.370728",
     "exception": false,
     "start_time": "2022-09-19T19:25:55.327893",
     "status": "completed"
    },
    "tags": []
   },
   "outputs": [
    {
     "data": {
      "text/plain": [
       "0    [Go, jurong, point, crazy, Available, bugis, n...\n",
       "1                       [Ok, lar, Joking, wif, u, oni]\n",
       "2    [Free, entry, 2, wkly, comp, win, FA, Cup, fin...\n",
       "3        [U, dun, say, early, hor, U, c, already, say]\n",
       "4    [Nah, dont, think, goes, usf, lives, around, t...\n",
       "Name: message, dtype: object"
      ]
     },
     "execution_count": 29,
     "metadata": {},
     "output_type": "execute_result"
    }
   ],
   "source": [
    "messages['message'].head(5).apply(text_process)"
   ]
  },
  {
   "cell_type": "markdown",
   "id": "679ad4ac",
   "metadata": {
    "papermill": {
     "duration": 0.016787,
     "end_time": "2022-09-19T19:25:55.404578",
     "exception": false,
     "start_time": "2022-09-19T19:25:55.387791",
     "status": "completed"
    },
    "tags": []
   },
   "source": [
    "# Vetorização"
   ]
  },
  {
   "cell_type": "code",
   "execution_count": 30,
   "id": "43cc273e",
   "metadata": {
    "execution": {
     "iopub.execute_input": "2022-09-19T19:25:55.440465Z",
     "iopub.status.busy": "2022-09-19T19:25:55.440036Z",
     "iopub.status.idle": "2022-09-19T19:25:55.444853Z",
     "shell.execute_reply": "2022-09-19T19:25:55.443708Z"
    },
    "papermill": {
     "duration": 0.025356,
     "end_time": "2022-09-19T19:25:55.446931",
     "exception": false,
     "start_time": "2022-09-19T19:25:55.421575",
     "status": "completed"
    },
    "tags": []
   },
   "outputs": [],
   "source": [
    "from sklearn.feature_extraction.text import CountVectorizer"
   ]
  },
  {
   "cell_type": "code",
   "execution_count": 31,
   "id": "55d269c4",
   "metadata": {
    "execution": {
     "iopub.execute_input": "2022-09-19T19:25:55.484786Z",
     "iopub.status.busy": "2022-09-19T19:25:55.483858Z",
     "iopub.status.idle": "2022-09-19T19:26:07.710239Z",
     "shell.execute_reply": "2022-09-19T19:26:07.708801Z"
    },
    "papermill": {
     "duration": 12.249552,
     "end_time": "2022-09-19T19:26:07.713220",
     "exception": false,
     "start_time": "2022-09-19T19:25:55.463668",
     "status": "completed"
    },
    "tags": []
   },
   "outputs": [],
   "source": [
    "bow_transformer = CountVectorizer(analyzer=text_process).fit(messages['message'])"
   ]
  },
  {
   "cell_type": "code",
   "execution_count": 32,
   "id": "ec7e8dde",
   "metadata": {
    "execution": {
     "iopub.execute_input": "2022-09-19T19:26:07.748992Z",
     "iopub.status.busy": "2022-09-19T19:26:07.748571Z",
     "iopub.status.idle": "2022-09-19T19:26:07.754055Z",
     "shell.execute_reply": "2022-09-19T19:26:07.752913Z"
    },
    "papermill": {
     "duration": 0.027142,
     "end_time": "2022-09-19T19:26:07.757520",
     "exception": false,
     "start_time": "2022-09-19T19:26:07.730378",
     "status": "completed"
    },
    "tags": []
   },
   "outputs": [
    {
     "name": "stdout",
     "output_type": "stream",
     "text": [
      "11425\n"
     ]
    }
   ],
   "source": [
    "print(len(bow_transformer.vocabulary_))"
   ]
  },
  {
   "cell_type": "code",
   "execution_count": 33,
   "id": "9a157cb2",
   "metadata": {
    "execution": {
     "iopub.execute_input": "2022-09-19T19:26:07.794448Z",
     "iopub.status.busy": "2022-09-19T19:26:07.793607Z",
     "iopub.status.idle": "2022-09-19T19:26:07.799689Z",
     "shell.execute_reply": "2022-09-19T19:26:07.798301Z"
    },
    "papermill": {
     "duration": 0.026791,
     "end_time": "2022-09-19T19:26:07.802170",
     "exception": false,
     "start_time": "2022-09-19T19:26:07.775379",
     "status": "completed"
    },
    "tags": []
   },
   "outputs": [
    {
     "name": "stdout",
     "output_type": "stream",
     "text": [
      "U dun say so early hor... U c already then say...\n"
     ]
    }
   ],
   "source": [
    "message4 = messages['message'][3]\n",
    "print(message4)"
   ]
  },
  {
   "cell_type": "code",
   "execution_count": 34,
   "id": "a383c2a8",
   "metadata": {
    "execution": {
     "iopub.execute_input": "2022-09-19T19:26:07.838389Z",
     "iopub.status.busy": "2022-09-19T19:26:07.837924Z",
     "iopub.status.idle": "2022-09-19T19:26:07.847006Z",
     "shell.execute_reply": "2022-09-19T19:26:07.845707Z"
    },
    "papermill": {
     "duration": 0.030038,
     "end_time": "2022-09-19T19:26:07.849404",
     "exception": false,
     "start_time": "2022-09-19T19:26:07.819366",
     "status": "completed"
    },
    "tags": []
   },
   "outputs": [
    {
     "name": "stdout",
     "output_type": "stream",
     "text": [
      "  (0, 4068)\t2\n",
      "  (0, 4629)\t1\n",
      "  (0, 5261)\t1\n",
      "  (0, 6204)\t1\n",
      "  (0, 6222)\t1\n",
      "  (0, 7186)\t1\n",
      "  (0, 9554)\t2\n",
      "(1, 11425)\n"
     ]
    }
   ],
   "source": [
    "bow4 = bow_transformer.transform([message4])\n",
    "print(bow4)\n",
    "print(bow4.shape)"
   ]
  },
  {
   "cell_type": "code",
   "execution_count": 35,
   "id": "a7141517",
   "metadata": {
    "execution": {
     "iopub.execute_input": "2022-09-19T19:26:07.886210Z",
     "iopub.status.busy": "2022-09-19T19:26:07.885803Z",
     "iopub.status.idle": "2022-09-19T19:26:07.907387Z",
     "shell.execute_reply": "2022-09-19T19:26:07.906085Z"
    },
    "papermill": {
     "duration": 0.043231,
     "end_time": "2022-09-19T19:26:07.910212",
     "exception": false,
     "start_time": "2022-09-19T19:26:07.866981",
     "status": "completed"
    },
    "tags": []
   },
   "outputs": [
    {
     "name": "stdout",
     "output_type": "stream",
     "text": [
      "U\n",
      "say\n"
     ]
    },
    {
     "name": "stderr",
     "output_type": "stream",
     "text": [
      "/opt/conda/lib/python3.7/site-packages/sklearn/utils/deprecation.py:87: FutureWarning: Function get_feature_names is deprecated; get_feature_names is deprecated in 1.0 and will be removed in 1.2. Please use get_feature_names_out instead.\n",
      "  warnings.warn(msg, category=FutureWarning)\n"
     ]
    }
   ],
   "source": [
    "print(bow_transformer.get_feature_names()[4068])\n",
    "print(bow_transformer.get_feature_names()[9554])"
   ]
  },
  {
   "cell_type": "code",
   "execution_count": 36,
   "id": "02e0e4f2",
   "metadata": {
    "execution": {
     "iopub.execute_input": "2022-09-19T19:26:07.947815Z",
     "iopub.status.busy": "2022-09-19T19:26:07.947392Z",
     "iopub.status.idle": "2022-09-19T19:26:20.172963Z",
     "shell.execute_reply": "2022-09-19T19:26:20.171772Z"
    },
    "papermill": {
     "duration": 12.24811,
     "end_time": "2022-09-19T19:26:20.175807",
     "exception": false,
     "start_time": "2022-09-19T19:26:07.927697",
     "status": "completed"
    },
    "tags": []
   },
   "outputs": [],
   "source": [
    "messages_bow = bow_transformer.transform(messages['message'])"
   ]
  },
  {
   "cell_type": "code",
   "execution_count": 37,
   "id": "8d2d4465",
   "metadata": {
    "execution": {
     "iopub.execute_input": "2022-09-19T19:26:20.213020Z",
     "iopub.status.busy": "2022-09-19T19:26:20.212632Z",
     "iopub.status.idle": "2022-09-19T19:26:20.218898Z",
     "shell.execute_reply": "2022-09-19T19:26:20.217972Z"
    },
    "papermill": {
     "duration": 0.027864,
     "end_time": "2022-09-19T19:26:20.221653",
     "exception": false,
     "start_time": "2022-09-19T19:26:20.193789",
     "status": "completed"
    },
    "tags": []
   },
   "outputs": [
    {
     "name": "stdout",
     "output_type": "stream",
     "text": [
      "Corpo da matriz:  (5572, 11425)\n",
      "Quantidade de não zeros:  50548\n",
      "Esparcidade:0.07940295412668218\n"
     ]
    }
   ],
   "source": [
    "print('Corpo da matriz: ', messages_bow.shape)\n",
    "print('Quantidade de não zeros: ', messages_bow.nnz)\n",
    "sparsity = (100.0 * messages_bow.nnz / (messages_bow.shape[0] * messages_bow.shape[1]))\n",
    "print('Esparcidade:{}'.format(sparsity))"
   ]
  },
  {
   "cell_type": "markdown",
   "id": "fe4d49b6",
   "metadata": {
    "papermill": {
     "duration": 0.017158,
     "end_time": "2022-09-19T19:26:20.257958",
     "exception": false,
     "start_time": "2022-09-19T19:26:20.240800",
     "status": "completed"
    },
    "tags": []
   },
   "source": [
    "# TF-IDF"
   ]
  },
  {
   "cell_type": "code",
   "execution_count": 38,
   "id": "2d82bb31",
   "metadata": {
    "execution": {
     "iopub.execute_input": "2022-09-19T19:26:20.294368Z",
     "iopub.status.busy": "2022-09-19T19:26:20.293921Z",
     "iopub.status.idle": "2022-09-19T19:26:20.299171Z",
     "shell.execute_reply": "2022-09-19T19:26:20.298026Z"
    },
    "papermill": {
     "duration": 0.026459,
     "end_time": "2022-09-19T19:26:20.301714",
     "exception": false,
     "start_time": "2022-09-19T19:26:20.275255",
     "status": "completed"
    },
    "tags": []
   },
   "outputs": [],
   "source": [
    "from sklearn.feature_extraction.text import TfidfTransformer"
   ]
  },
  {
   "cell_type": "code",
   "execution_count": 39,
   "id": "ef2288b1",
   "metadata": {
    "execution": {
     "iopub.execute_input": "2022-09-19T19:26:20.339516Z",
     "iopub.status.busy": "2022-09-19T19:26:20.339062Z",
     "iopub.status.idle": "2022-09-19T19:26:20.345890Z",
     "shell.execute_reply": "2022-09-19T19:26:20.344995Z"
    },
    "papermill": {
     "duration": 0.028428,
     "end_time": "2022-09-19T19:26:20.348210",
     "exception": false,
     "start_time": "2022-09-19T19:26:20.319782",
     "status": "completed"
    },
    "tags": []
   },
   "outputs": [],
   "source": [
    "tfidf_transformer = TfidfTransformer().fit(messages_bow)"
   ]
  },
  {
   "cell_type": "code",
   "execution_count": 40,
   "id": "be8ce45b",
   "metadata": {
    "execution": {
     "iopub.execute_input": "2022-09-19T19:26:20.386142Z",
     "iopub.status.busy": "2022-09-19T19:26:20.385688Z",
     "iopub.status.idle": "2022-09-19T19:26:20.395403Z",
     "shell.execute_reply": "2022-09-19T19:26:20.394067Z"
    },
    "papermill": {
     "duration": 0.031661,
     "end_time": "2022-09-19T19:26:20.397740",
     "exception": false,
     "start_time": "2022-09-19T19:26:20.366079",
     "status": "completed"
    },
    "tags": []
   },
   "outputs": [
    {
     "name": "stdout",
     "output_type": "stream",
     "text": [
      "  (0, 9554)\t0.5385626262927564\n",
      "  (0, 7186)\t0.4389365653379857\n",
      "  (0, 6222)\t0.3187216892949149\n",
      "  (0, 6204)\t0.29953799723697416\n",
      "  (0, 5261)\t0.29729957405868723\n",
      "  (0, 4629)\t0.26619801906087187\n",
      "  (0, 4068)\t0.40832589933384067\n"
     ]
    }
   ],
   "source": [
    "tfidf4 = tfidf_transformer.transform(bow4)\n",
    "print(tfidf4)"
   ]
  },
  {
   "cell_type": "code",
   "execution_count": 41,
   "id": "eda274d2",
   "metadata": {
    "execution": {
     "iopub.execute_input": "2022-09-19T19:26:20.437026Z",
     "iopub.status.busy": "2022-09-19T19:26:20.436272Z",
     "iopub.status.idle": "2022-09-19T19:26:20.443462Z",
     "shell.execute_reply": "2022-09-19T19:26:20.442138Z"
    },
    "papermill": {
     "duration": 0.02897,
     "end_time": "2022-09-19T19:26:20.446148",
     "exception": false,
     "start_time": "2022-09-19T19:26:20.417178",
     "status": "completed"
    },
    "tags": []
   },
   "outputs": [
    {
     "name": "stdout",
     "output_type": "stream",
     "text": [
      "8.527076498901426\n"
     ]
    }
   ],
   "source": [
    "print(tfidf_transformer.idf_[bow_transformer.vocabulary_['university']])"
   ]
  },
  {
   "cell_type": "markdown",
   "id": "756efc28",
   "metadata": {
    "papermill": {
     "duration": 0.0173,
     "end_time": "2022-09-19T19:26:20.481444",
     "exception": false,
     "start_time": "2022-09-19T19:26:20.464144",
     "status": "completed"
    },
    "tags": []
   },
   "source": [
    "# Treinando o modelo"
   ]
  },
  {
   "cell_type": "code",
   "execution_count": 42,
   "id": "8effb537",
   "metadata": {
    "execution": {
     "iopub.execute_input": "2022-09-19T19:26:20.518432Z",
     "iopub.status.busy": "2022-09-19T19:26:20.517823Z",
     "iopub.status.idle": "2022-09-19T19:26:20.525888Z",
     "shell.execute_reply": "2022-09-19T19:26:20.524883Z"
    },
    "papermill": {
     "duration": 0.029615,
     "end_time": "2022-09-19T19:26:20.528691",
     "exception": false,
     "start_time": "2022-09-19T19:26:20.499076",
     "status": "completed"
    },
    "tags": []
   },
   "outputs": [],
   "source": [
    "from sklearn.naive_bayes import MultinomialNB"
   ]
  },
  {
   "cell_type": "code",
   "execution_count": 43,
   "id": "54370be8",
   "metadata": {
    "execution": {
     "iopub.execute_input": "2022-09-19T19:26:20.566170Z",
     "iopub.status.busy": "2022-09-19T19:26:20.565131Z",
     "iopub.status.idle": "2022-09-19T19:26:20.575112Z",
     "shell.execute_reply": "2022-09-19T19:26:20.573951Z"
    },
    "papermill": {
     "duration": 0.031232,
     "end_time": "2022-09-19T19:26:20.577656",
     "exception": false,
     "start_time": "2022-09-19T19:26:20.546424",
     "status": "completed"
    },
    "tags": []
   },
   "outputs": [
    {
     "name": "stdout",
     "output_type": "stream",
     "text": [
      "(5572, 11425)\n"
     ]
    }
   ],
   "source": [
    "messages_tfidf = tfidf_transformer.transform(messages_bow)\n",
    "print(messages_tfidf.shape)"
   ]
  },
  {
   "cell_type": "code",
   "execution_count": 44,
   "id": "9210c491",
   "metadata": {
    "execution": {
     "iopub.execute_input": "2022-09-19T19:26:20.615906Z",
     "iopub.status.busy": "2022-09-19T19:26:20.614942Z",
     "iopub.status.idle": "2022-09-19T19:26:20.636143Z",
     "shell.execute_reply": "2022-09-19T19:26:20.634964Z"
    },
    "papermill": {
     "duration": 0.042628,
     "end_time": "2022-09-19T19:26:20.638580",
     "exception": false,
     "start_time": "2022-09-19T19:26:20.595952",
     "status": "completed"
    },
    "tags": []
   },
   "outputs": [],
   "source": [
    "spam_detect_model = MultinomialNB().fit(messages_tfidf, messages['label'])"
   ]
  },
  {
   "cell_type": "code",
   "execution_count": 45,
   "id": "ce1f2104",
   "metadata": {
    "execution": {
     "iopub.execute_input": "2022-09-19T19:26:20.675455Z",
     "iopub.status.busy": "2022-09-19T19:26:20.675004Z",
     "iopub.status.idle": "2022-09-19T19:26:20.682090Z",
     "shell.execute_reply": "2022-09-19T19:26:20.680623Z"
    },
    "papermill": {
     "duration": 0.029516,
     "end_time": "2022-09-19T19:26:20.685792",
     "exception": false,
     "start_time": "2022-09-19T19:26:20.656276",
     "status": "completed"
    },
    "tags": []
   },
   "outputs": [
    {
     "name": "stdout",
     "output_type": "stream",
     "text": [
      "Predito: ham\n",
      "Esperado: ham\n"
     ]
    }
   ],
   "source": [
    "print('Predito:', spam_detect_model.predict(tfidf4)[0])\n",
    "print('Esperado:', messages.label[3])"
   ]
  },
  {
   "cell_type": "markdown",
   "id": "91ff1d49",
   "metadata": {
    "papermill": {
     "duration": 0.017304,
     "end_time": "2022-09-19T19:26:20.721778",
     "exception": false,
     "start_time": "2022-09-19T19:26:20.704474",
     "status": "completed"
    },
    "tags": []
   },
   "source": [
    "# Treino teste"
   ]
  },
  {
   "cell_type": "code",
   "execution_count": 46,
   "id": "bde89bf4",
   "metadata": {
    "execution": {
     "iopub.execute_input": "2022-09-19T19:26:20.759865Z",
     "iopub.status.busy": "2022-09-19T19:26:20.758621Z",
     "iopub.status.idle": "2022-09-19T19:26:20.764521Z",
     "shell.execute_reply": "2022-09-19T19:26:20.763519Z"
    },
    "papermill": {
     "duration": 0.027396,
     "end_time": "2022-09-19T19:26:20.766787",
     "exception": false,
     "start_time": "2022-09-19T19:26:20.739391",
     "status": "completed"
    },
    "tags": []
   },
   "outputs": [],
   "source": [
    "from sklearn.model_selection import train_test_split"
   ]
  },
  {
   "cell_type": "code",
   "execution_count": 47,
   "id": "57c6f2c7",
   "metadata": {
    "execution": {
     "iopub.execute_input": "2022-09-19T19:26:20.804485Z",
     "iopub.status.busy": "2022-09-19T19:26:20.803752Z",
     "iopub.status.idle": "2022-09-19T19:26:20.812748Z",
     "shell.execute_reply": "2022-09-19T19:26:20.811424Z"
    },
    "papermill": {
     "duration": 0.03043,
     "end_time": "2022-09-19T19:26:20.815096",
     "exception": false,
     "start_time": "2022-09-19T19:26:20.784666",
     "status": "completed"
    },
    "tags": []
   },
   "outputs": [
    {
     "name": "stdout",
     "output_type": "stream",
     "text": [
      "4457 1115 5572\n"
     ]
    }
   ],
   "source": [
    "msg_train, msg_test, label_train, label_test = train_test_split(messages['message'], messages['label'], test_size=0.2)\n",
    "\n",
    "print(len(msg_train), len(msg_test), len(msg_train) + len(msg_test))"
   ]
  },
  {
   "cell_type": "markdown",
   "id": "c22f6be4",
   "metadata": {
    "papermill": {
     "duration": 0.017597,
     "end_time": "2022-09-19T19:26:20.850941",
     "exception": false,
     "start_time": "2022-09-19T19:26:20.833344",
     "status": "completed"
    },
    "tags": []
   },
   "source": [
    "# Criando um Pipeline"
   ]
  },
  {
   "cell_type": "code",
   "execution_count": 48,
   "id": "81e3b7af",
   "metadata": {
    "execution": {
     "iopub.execute_input": "2022-09-19T19:26:20.892094Z",
     "iopub.status.busy": "2022-09-19T19:26:20.891650Z",
     "iopub.status.idle": "2022-09-19T19:26:20.899009Z",
     "shell.execute_reply": "2022-09-19T19:26:20.897732Z"
    },
    "papermill": {
     "duration": 0.029421,
     "end_time": "2022-09-19T19:26:20.901680",
     "exception": false,
     "start_time": "2022-09-19T19:26:20.872259",
     "status": "completed"
    },
    "tags": []
   },
   "outputs": [],
   "source": [
    "from sklearn.pipeline import Pipeline"
   ]
  },
  {
   "cell_type": "code",
   "execution_count": 49,
   "id": "c1cee29d",
   "metadata": {
    "execution": {
     "iopub.execute_input": "2022-09-19T19:26:20.939634Z",
     "iopub.status.busy": "2022-09-19T19:26:20.939162Z",
     "iopub.status.idle": "2022-09-19T19:26:20.944538Z",
     "shell.execute_reply": "2022-09-19T19:26:20.943601Z"
    },
    "papermill": {
     "duration": 0.027046,
     "end_time": "2022-09-19T19:26:20.946792",
     "exception": false,
     "start_time": "2022-09-19T19:26:20.919746",
     "status": "completed"
    },
    "tags": []
   },
   "outputs": [],
   "source": [
    "pipeline = Pipeline([\n",
    "    ('bow', CountVectorizer(analyzer=text_process)),  #Conta as strings\n",
    "    ('tfidf', TfidfTransformer()),  # Converte em TF-IDF\n",
    "    ('classifier', MultinomialNB()),  # Escolhendo o classificador\n",
    "])"
   ]
  },
  {
   "cell_type": "code",
   "execution_count": 50,
   "id": "130fa5c7",
   "metadata": {
    "execution": {
     "iopub.execute_input": "2022-09-19T19:26:20.985071Z",
     "iopub.status.busy": "2022-09-19T19:26:20.984642Z",
     "iopub.status.idle": "2022-09-19T19:26:30.913780Z",
     "shell.execute_reply": "2022-09-19T19:26:30.912441Z"
    },
    "papermill": {
     "duration": 9.951988,
     "end_time": "2022-09-19T19:26:30.916515",
     "exception": false,
     "start_time": "2022-09-19T19:26:20.964527",
     "status": "completed"
    },
    "tags": []
   },
   "outputs": [
    {
     "data": {
      "text/plain": [
       "Pipeline(steps=[('bow',\n",
       "                 CountVectorizer(analyzer=<function text_process at 0x7f6316722c20>)),\n",
       "                ('tfidf', TfidfTransformer()),\n",
       "                ('classifier', MultinomialNB())])"
      ]
     },
     "execution_count": 50,
     "metadata": {},
     "output_type": "execute_result"
    }
   ],
   "source": [
    "pipeline.fit(msg_train,label_train)"
   ]
  },
  {
   "cell_type": "code",
   "execution_count": 51,
   "id": "0ebe6a53",
   "metadata": {
    "execution": {
     "iopub.execute_input": "2022-09-19T19:26:30.955635Z",
     "iopub.status.busy": "2022-09-19T19:26:30.955200Z",
     "iopub.status.idle": "2022-09-19T19:26:33.400869Z",
     "shell.execute_reply": "2022-09-19T19:26:33.399659Z"
    },
    "papermill": {
     "duration": 2.468745,
     "end_time": "2022-09-19T19:26:33.403772",
     "exception": false,
     "start_time": "2022-09-19T19:26:30.935027",
     "status": "completed"
    },
    "tags": []
   },
   "outputs": [],
   "source": [
    "predictions = pipeline.predict(msg_test)"
   ]
  },
  {
   "cell_type": "code",
   "execution_count": 52,
   "id": "e58b6793",
   "metadata": {
    "execution": {
     "iopub.execute_input": "2022-09-19T19:26:33.442822Z",
     "iopub.status.busy": "2022-09-19T19:26:33.442398Z",
     "iopub.status.idle": "2022-09-19T19:26:33.447839Z",
     "shell.execute_reply": "2022-09-19T19:26:33.446767Z"
    },
    "papermill": {
     "duration": 0.027705,
     "end_time": "2022-09-19T19:26:33.450426",
     "exception": false,
     "start_time": "2022-09-19T19:26:33.422721",
     "status": "completed"
    },
    "tags": []
   },
   "outputs": [],
   "source": [
    "from sklearn.metrics import classification_report"
   ]
  },
  {
   "cell_type": "code",
   "execution_count": 53,
   "id": "11f31ae6",
   "metadata": {
    "execution": {
     "iopub.execute_input": "2022-09-19T19:26:33.490723Z",
     "iopub.status.busy": "2022-09-19T19:26:33.489580Z",
     "iopub.status.idle": "2022-09-19T19:26:33.524212Z",
     "shell.execute_reply": "2022-09-19T19:26:33.523094Z"
    },
    "papermill": {
     "duration": 0.057014,
     "end_time": "2022-09-19T19:26:33.526725",
     "exception": false,
     "start_time": "2022-09-19T19:26:33.469711",
     "status": "completed"
    },
    "tags": []
   },
   "outputs": [
    {
     "name": "stdout",
     "output_type": "stream",
     "text": [
      "              precision    recall  f1-score   support\n",
      "\n",
      "         ham       1.00      0.96      0.98      1012\n",
      "        spam       0.72      1.00      0.83       103\n",
      "\n",
      "    accuracy                           0.96      1115\n",
      "   macro avg       0.86      0.98      0.91      1115\n",
      "weighted avg       0.97      0.96      0.97      1115\n",
      "\n"
     ]
    }
   ],
   "source": [
    "print(classification_report(predictions,label_test))"
   ]
  },
  {
   "cell_type": "markdown",
   "id": "32d37555",
   "metadata": {
    "papermill": {
     "duration": 0.018368,
     "end_time": "2022-09-19T19:26:33.563381",
     "exception": false,
     "start_time": "2022-09-19T19:26:33.545013",
     "status": "completed"
    },
    "tags": []
   },
   "source": [
    "# Arvores aleatórias"
   ]
  },
  {
   "cell_type": "code",
   "execution_count": 54,
   "id": "65f85c33",
   "metadata": {
    "execution": {
     "iopub.execute_input": "2022-09-19T19:26:33.602772Z",
     "iopub.status.busy": "2022-09-19T19:26:33.602003Z",
     "iopub.status.idle": "2022-09-19T19:26:33.758654Z",
     "shell.execute_reply": "2022-09-19T19:26:33.757211Z"
    },
    "papermill": {
     "duration": 0.17949,
     "end_time": "2022-09-19T19:26:33.761692",
     "exception": false,
     "start_time": "2022-09-19T19:26:33.582202",
     "status": "completed"
    },
    "tags": []
   },
   "outputs": [],
   "source": [
    "from sklearn.ensemble import RandomForestClassifier\n",
    "\n",
    "pipeline = Pipeline([\n",
    "    ('bow', CountVectorizer(analyzer=text_process)),  # strings to token integer counts\n",
    "    ('tfidf', TfidfTransformer()),  # integer counts to weighted TF-IDF scores\n",
    "    ('classifier', RandomForestClassifier()),  # train on TF-IDF vectors w/ RandomForestClassifier\n",
    "])"
   ]
  },
  {
   "cell_type": "code",
   "execution_count": 55,
   "id": "03dcac08",
   "metadata": {
    "execution": {
     "iopub.execute_input": "2022-09-19T19:26:33.801847Z",
     "iopub.status.busy": "2022-09-19T19:26:33.801442Z",
     "iopub.status.idle": "2022-09-19T19:26:44.837609Z",
     "shell.execute_reply": "2022-09-19T19:26:44.836314Z"
    },
    "papermill": {
     "duration": 11.059365,
     "end_time": "2022-09-19T19:26:44.840269",
     "exception": false,
     "start_time": "2022-09-19T19:26:33.780904",
     "status": "completed"
    },
    "tags": []
   },
   "outputs": [
    {
     "data": {
      "text/plain": [
       "Pipeline(steps=[('bow',\n",
       "                 CountVectorizer(analyzer=<function text_process at 0x7f6316722c20>)),\n",
       "                ('tfidf', TfidfTransformer()),\n",
       "                ('classifier', RandomForestClassifier())])"
      ]
     },
     "execution_count": 55,
     "metadata": {},
     "output_type": "execute_result"
    }
   ],
   "source": [
    "pipeline.fit(msg_train,label_train)"
   ]
  },
  {
   "cell_type": "code",
   "execution_count": 56,
   "id": "d7163588",
   "metadata": {
    "execution": {
     "iopub.execute_input": "2022-09-19T19:26:44.879674Z",
     "iopub.status.busy": "2022-09-19T19:26:44.878971Z",
     "iopub.status.idle": "2022-09-19T19:26:47.415120Z",
     "shell.execute_reply": "2022-09-19T19:26:47.413560Z"
    },
    "papermill": {
     "duration": 2.560361,
     "end_time": "2022-09-19T19:26:47.419253",
     "exception": false,
     "start_time": "2022-09-19T19:26:44.858892",
     "status": "completed"
    },
    "tags": []
   },
   "outputs": [
    {
     "name": "stdout",
     "output_type": "stream",
     "text": [
      "              precision    recall  f1-score   support\n",
      "\n",
      "         ham       1.00      0.97      0.99       996\n",
      "        spam       0.82      0.99      0.90       119\n",
      "\n",
      "    accuracy                           0.98      1115\n",
      "   macro avg       0.91      0.98      0.94      1115\n",
      "weighted avg       0.98      0.98      0.98      1115\n",
      "\n"
     ]
    }
   ],
   "source": [
    "predictions = pipeline.predict(msg_test)\n",
    "print(classification_report(predictions,label_test))"
   ]
  },
  {
   "cell_type": "code",
   "execution_count": null,
   "id": "9955c579",
   "metadata": {
    "papermill": {
     "duration": 0.017792,
     "end_time": "2022-09-19T19:26:47.455837",
     "exception": false,
     "start_time": "2022-09-19T19:26:47.438045",
     "status": "completed"
    },
    "tags": []
   },
   "outputs": [],
   "source": []
  }
 ],
 "metadata": {
  "kernelspec": {
   "display_name": "Python 3",
   "language": "python",
   "name": "python3"
  },
  "language_info": {
   "codemirror_mode": {
    "name": "ipython",
    "version": 3
   },
   "file_extension": ".py",
   "mimetype": "text/x-python",
   "name": "python",
   "nbconvert_exporter": "python",
   "pygments_lexer": "ipython3",
   "version": "3.7.12"
  },
  "papermill": {
   "default_parameters": {},
   "duration": 67.519308,
   "end_time": "2022-09-19T19:26:48.396685",
   "environment_variables": {},
   "exception": null,
   "input_path": "__notebook__.ipynb",
   "output_path": "__notebook__.ipynb",
   "parameters": {},
   "start_time": "2022-09-19T19:25:40.877377",
   "version": "2.3.4"
  }
 },
 "nbformat": 4,
 "nbformat_minor": 5
}
