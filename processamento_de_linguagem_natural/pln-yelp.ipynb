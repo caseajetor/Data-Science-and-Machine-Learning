{
 "cells": [
  {
   "cell_type": "code",
   "execution_count": 1,
   "id": "fae5d5f8",
   "metadata": {
    "_cell_guid": "b1076dfc-b9ad-4769-8c92-a6c4dae69d19",
    "_uuid": "8f2839f25d086af736a60e9eeb907d3b93b6e0e5",
    "execution": {
     "iopub.execute_input": "2022-09-19T19:22:55.861291Z",
     "iopub.status.busy": "2022-09-19T19:22:55.860470Z",
     "iopub.status.idle": "2022-09-19T19:22:55.879580Z",
     "shell.execute_reply": "2022-09-19T19:22:55.878711Z"
    },
    "papermill": {
     "duration": 0.030885,
     "end_time": "2022-09-19T19:22:55.881724",
     "exception": false,
     "start_time": "2022-09-19T19:22:55.850839",
     "status": "completed"
    },
    "tags": []
   },
   "outputs": [
    {
     "name": "stdout",
     "output_type": "stream",
     "text": [
      "/kaggle/input/yelp-reviews/yelp.csv\n"
     ]
    }
   ],
   "source": [
    "# This Python 3 environment comes with many helpful analytics libraries installed\n",
    "# It is defined by the kaggle/python Docker image: https://github.com/kaggle/docker-python\n",
    "# For example, here's several helpful packages to load\n",
    "\n",
    "import numpy as np # linear algebra\n",
    "import pandas as pd # data processing, CSV file I/O (e.g. pd.read_csv)\n",
    "\n",
    "# Input data files are available in the read-only \"../input/\" directory\n",
    "# For example, running this (by clicking run or pressing Shift+Enter) will list all files under the input directory\n",
    "\n",
    "import os\n",
    "for dirname, _, filenames in os.walk('/kaggle/input'):\n",
    "    for filename in filenames:\n",
    "        print(os.path.join(dirname, filename))\n",
    "\n",
    "# You can write up to 20GB to the current directory (/kaggle/working/) that gets preserved as output when you create a version using \"Save & Run All\" \n",
    "# You can also write temporary files to /kaggle/temp/, but they won't be saved outside of the current session"
   ]
  },
  {
   "cell_type": "code",
   "execution_count": 2,
   "id": "614f27f4",
   "metadata": {
    "execution": {
     "iopub.execute_input": "2022-09-19T19:22:55.897806Z",
     "iopub.status.busy": "2022-09-19T19:22:55.897246Z",
     "iopub.status.idle": "2022-09-19T19:22:57.212131Z",
     "shell.execute_reply": "2022-09-19T19:22:57.210463Z"
    },
    "papermill": {
     "duration": 1.325564,
     "end_time": "2022-09-19T19:22:57.214604",
     "exception": false,
     "start_time": "2022-09-19T19:22:55.889040",
     "status": "completed"
    },
    "tags": []
   },
   "outputs": [],
   "source": [
    "import pandas as pd\n",
    "import numpy as np\n",
    "%matplotlib inline\n",
    "import matplotlib.pyplot as plt\n",
    "import seaborn as sns\n"
   ]
  },
  {
   "cell_type": "code",
   "execution_count": 3,
   "id": "5cb1577b",
   "metadata": {
    "execution": {
     "iopub.execute_input": "2022-09-19T19:22:57.231850Z",
     "iopub.status.busy": "2022-09-19T19:22:57.231413Z",
     "iopub.status.idle": "2022-09-19T19:22:57.467942Z",
     "shell.execute_reply": "2022-09-19T19:22:57.466666Z"
    },
    "papermill": {
     "duration": 0.248193,
     "end_time": "2022-09-19T19:22:57.470434",
     "exception": false,
     "start_time": "2022-09-19T19:22:57.222241",
     "status": "completed"
    },
    "tags": []
   },
   "outputs": [],
   "source": [
    "yelp = pd.read_csv('../input/yelp-reviews/yelp.csv')"
   ]
  },
  {
   "cell_type": "code",
   "execution_count": 4,
   "id": "9cd8cd34",
   "metadata": {
    "execution": {
     "iopub.execute_input": "2022-09-19T19:22:57.488301Z",
     "iopub.status.busy": "2022-09-19T19:22:57.486916Z",
     "iopub.status.idle": "2022-09-19T19:22:57.516267Z",
     "shell.execute_reply": "2022-09-19T19:22:57.514557Z"
    },
    "papermill": {
     "duration": 0.040575,
     "end_time": "2022-09-19T19:22:57.519104",
     "exception": false,
     "start_time": "2022-09-19T19:22:57.478529",
     "status": "completed"
    },
    "tags": []
   },
   "outputs": [
    {
     "data": {
      "text/html": [
       "<div>\n",
       "<style scoped>\n",
       "    .dataframe tbody tr th:only-of-type {\n",
       "        vertical-align: middle;\n",
       "    }\n",
       "\n",
       "    .dataframe tbody tr th {\n",
       "        vertical-align: top;\n",
       "    }\n",
       "\n",
       "    .dataframe thead th {\n",
       "        text-align: right;\n",
       "    }\n",
       "</style>\n",
       "<table border=\"1\" class=\"dataframe\">\n",
       "  <thead>\n",
       "    <tr style=\"text-align: right;\">\n",
       "      <th></th>\n",
       "      <th>business_id</th>\n",
       "      <th>date</th>\n",
       "      <th>review_id</th>\n",
       "      <th>stars</th>\n",
       "      <th>text</th>\n",
       "      <th>type</th>\n",
       "      <th>user_id</th>\n",
       "      <th>cool</th>\n",
       "      <th>useful</th>\n",
       "      <th>funny</th>\n",
       "    </tr>\n",
       "  </thead>\n",
       "  <tbody>\n",
       "    <tr>\n",
       "      <th>0</th>\n",
       "      <td>9yKzy9PApeiPPOUJEtnvkg</td>\n",
       "      <td>2011-01-26</td>\n",
       "      <td>fWKvX83p0-ka4JS3dc6E5A</td>\n",
       "      <td>5</td>\n",
       "      <td>My wife took me here on my birthday for breakf...</td>\n",
       "      <td>review</td>\n",
       "      <td>rLtl8ZkDX5vH5nAx9C3q5Q</td>\n",
       "      <td>2</td>\n",
       "      <td>5</td>\n",
       "      <td>0</td>\n",
       "    </tr>\n",
       "    <tr>\n",
       "      <th>1</th>\n",
       "      <td>ZRJwVLyzEJq1VAihDhYiow</td>\n",
       "      <td>2011-07-27</td>\n",
       "      <td>IjZ33sJrzXqU-0X6U8NwyA</td>\n",
       "      <td>5</td>\n",
       "      <td>I have no idea why some people give bad review...</td>\n",
       "      <td>review</td>\n",
       "      <td>0a2KyEL0d3Yb1V6aivbIuQ</td>\n",
       "      <td>0</td>\n",
       "      <td>0</td>\n",
       "      <td>0</td>\n",
       "    </tr>\n",
       "    <tr>\n",
       "      <th>2</th>\n",
       "      <td>6oRAC4uyJCsJl1X0WZpVSA</td>\n",
       "      <td>2012-06-14</td>\n",
       "      <td>IESLBzqUCLdSzSqm0eCSxQ</td>\n",
       "      <td>4</td>\n",
       "      <td>love the gyro plate. Rice is so good and I als...</td>\n",
       "      <td>review</td>\n",
       "      <td>0hT2KtfLiobPvh6cDC8JQg</td>\n",
       "      <td>0</td>\n",
       "      <td>1</td>\n",
       "      <td>0</td>\n",
       "    </tr>\n",
       "    <tr>\n",
       "      <th>3</th>\n",
       "      <td>_1QQZuf4zZOyFCvXc0o6Vg</td>\n",
       "      <td>2010-05-27</td>\n",
       "      <td>G-WvGaISbqqaMHlNnByodA</td>\n",
       "      <td>5</td>\n",
       "      <td>Rosie, Dakota, and I LOVE Chaparral Dog Park!!...</td>\n",
       "      <td>review</td>\n",
       "      <td>uZetl9T0NcROGOyFfughhg</td>\n",
       "      <td>1</td>\n",
       "      <td>2</td>\n",
       "      <td>0</td>\n",
       "    </tr>\n",
       "    <tr>\n",
       "      <th>4</th>\n",
       "      <td>6ozycU1RpktNG2-1BroVtw</td>\n",
       "      <td>2012-01-05</td>\n",
       "      <td>1uJFq2r5QfJG_6ExMRCaGw</td>\n",
       "      <td>5</td>\n",
       "      <td>General Manager Scott Petello is a good egg!!!...</td>\n",
       "      <td>review</td>\n",
       "      <td>vYmM4KTsC8ZfQBg-j5MWkw</td>\n",
       "      <td>0</td>\n",
       "      <td>0</td>\n",
       "      <td>0</td>\n",
       "    </tr>\n",
       "  </tbody>\n",
       "</table>\n",
       "</div>"
      ],
      "text/plain": [
       "              business_id        date               review_id  stars  \\\n",
       "0  9yKzy9PApeiPPOUJEtnvkg  2011-01-26  fWKvX83p0-ka4JS3dc6E5A      5   \n",
       "1  ZRJwVLyzEJq1VAihDhYiow  2011-07-27  IjZ33sJrzXqU-0X6U8NwyA      5   \n",
       "2  6oRAC4uyJCsJl1X0WZpVSA  2012-06-14  IESLBzqUCLdSzSqm0eCSxQ      4   \n",
       "3  _1QQZuf4zZOyFCvXc0o6Vg  2010-05-27  G-WvGaISbqqaMHlNnByodA      5   \n",
       "4  6ozycU1RpktNG2-1BroVtw  2012-01-05  1uJFq2r5QfJG_6ExMRCaGw      5   \n",
       "\n",
       "                                                text    type  \\\n",
       "0  My wife took me here on my birthday for breakf...  review   \n",
       "1  I have no idea why some people give bad review...  review   \n",
       "2  love the gyro plate. Rice is so good and I als...  review   \n",
       "3  Rosie, Dakota, and I LOVE Chaparral Dog Park!!...  review   \n",
       "4  General Manager Scott Petello is a good egg!!!...  review   \n",
       "\n",
       "                  user_id  cool  useful  funny  \n",
       "0  rLtl8ZkDX5vH5nAx9C3q5Q     2       5      0  \n",
       "1  0a2KyEL0d3Yb1V6aivbIuQ     0       0      0  \n",
       "2  0hT2KtfLiobPvh6cDC8JQg     0       1      0  \n",
       "3  uZetl9T0NcROGOyFfughhg     1       2      0  \n",
       "4  vYmM4KTsC8ZfQBg-j5MWkw     0       0      0  "
      ]
     },
     "execution_count": 4,
     "metadata": {},
     "output_type": "execute_result"
    }
   ],
   "source": [
    "yelp.head()"
   ]
  },
  {
   "cell_type": "code",
   "execution_count": 5,
   "id": "a39fce30",
   "metadata": {
    "execution": {
     "iopub.execute_input": "2022-09-19T19:22:57.536748Z",
     "iopub.status.busy": "2022-09-19T19:22:57.536272Z",
     "iopub.status.idle": "2022-09-19T19:22:57.569781Z",
     "shell.execute_reply": "2022-09-19T19:22:57.567469Z"
    },
    "papermill": {
     "duration": 0.045696,
     "end_time": "2022-09-19T19:22:57.572205",
     "exception": false,
     "start_time": "2022-09-19T19:22:57.526509",
     "status": "completed"
    },
    "tags": []
   },
   "outputs": [
    {
     "name": "stdout",
     "output_type": "stream",
     "text": [
      "<class 'pandas.core.frame.DataFrame'>\n",
      "RangeIndex: 10000 entries, 0 to 9999\n",
      "Data columns (total 10 columns):\n",
      " #   Column       Non-Null Count  Dtype \n",
      "---  ------       --------------  ----- \n",
      " 0   business_id  10000 non-null  object\n",
      " 1   date         10000 non-null  object\n",
      " 2   review_id    10000 non-null  object\n",
      " 3   stars        10000 non-null  int64 \n",
      " 4   text         10000 non-null  object\n",
      " 5   type         10000 non-null  object\n",
      " 6   user_id      10000 non-null  object\n",
      " 7   cool         10000 non-null  int64 \n",
      " 8   useful       10000 non-null  int64 \n",
      " 9   funny        10000 non-null  int64 \n",
      "dtypes: int64(4), object(6)\n",
      "memory usage: 781.4+ KB\n"
     ]
    }
   ],
   "source": [
    "yelp.info()"
   ]
  },
  {
   "cell_type": "code",
   "execution_count": 6,
   "id": "fd19931a",
   "metadata": {
    "execution": {
     "iopub.execute_input": "2022-09-19T19:22:57.588789Z",
     "iopub.status.busy": "2022-09-19T19:22:57.588467Z",
     "iopub.status.idle": "2022-09-19T19:22:57.610932Z",
     "shell.execute_reply": "2022-09-19T19:22:57.609200Z"
    },
    "papermill": {
     "duration": 0.03424,
     "end_time": "2022-09-19T19:22:57.614622",
     "exception": false,
     "start_time": "2022-09-19T19:22:57.580382",
     "status": "completed"
    },
    "tags": []
   },
   "outputs": [
    {
     "data": {
      "text/html": [
       "<div>\n",
       "<style scoped>\n",
       "    .dataframe tbody tr th:only-of-type {\n",
       "        vertical-align: middle;\n",
       "    }\n",
       "\n",
       "    .dataframe tbody tr th {\n",
       "        vertical-align: top;\n",
       "    }\n",
       "\n",
       "    .dataframe thead th {\n",
       "        text-align: right;\n",
       "    }\n",
       "</style>\n",
       "<table border=\"1\" class=\"dataframe\">\n",
       "  <thead>\n",
       "    <tr style=\"text-align: right;\">\n",
       "      <th></th>\n",
       "      <th>stars</th>\n",
       "      <th>cool</th>\n",
       "      <th>useful</th>\n",
       "      <th>funny</th>\n",
       "    </tr>\n",
       "  </thead>\n",
       "  <tbody>\n",
       "    <tr>\n",
       "      <th>count</th>\n",
       "      <td>10000.000000</td>\n",
       "      <td>10000.000000</td>\n",
       "      <td>10000.000000</td>\n",
       "      <td>10000.000000</td>\n",
       "    </tr>\n",
       "    <tr>\n",
       "      <th>mean</th>\n",
       "      <td>3.777500</td>\n",
       "      <td>0.876800</td>\n",
       "      <td>1.409300</td>\n",
       "      <td>0.701300</td>\n",
       "    </tr>\n",
       "    <tr>\n",
       "      <th>std</th>\n",
       "      <td>1.214636</td>\n",
       "      <td>2.067861</td>\n",
       "      <td>2.336647</td>\n",
       "      <td>1.907942</td>\n",
       "    </tr>\n",
       "    <tr>\n",
       "      <th>min</th>\n",
       "      <td>1.000000</td>\n",
       "      <td>0.000000</td>\n",
       "      <td>0.000000</td>\n",
       "      <td>0.000000</td>\n",
       "    </tr>\n",
       "    <tr>\n",
       "      <th>25%</th>\n",
       "      <td>3.000000</td>\n",
       "      <td>0.000000</td>\n",
       "      <td>0.000000</td>\n",
       "      <td>0.000000</td>\n",
       "    </tr>\n",
       "    <tr>\n",
       "      <th>50%</th>\n",
       "      <td>4.000000</td>\n",
       "      <td>0.000000</td>\n",
       "      <td>1.000000</td>\n",
       "      <td>0.000000</td>\n",
       "    </tr>\n",
       "    <tr>\n",
       "      <th>75%</th>\n",
       "      <td>5.000000</td>\n",
       "      <td>1.000000</td>\n",
       "      <td>2.000000</td>\n",
       "      <td>1.000000</td>\n",
       "    </tr>\n",
       "    <tr>\n",
       "      <th>max</th>\n",
       "      <td>5.000000</td>\n",
       "      <td>77.000000</td>\n",
       "      <td>76.000000</td>\n",
       "      <td>57.000000</td>\n",
       "    </tr>\n",
       "  </tbody>\n",
       "</table>\n",
       "</div>"
      ],
      "text/plain": [
       "              stars          cool        useful         funny\n",
       "count  10000.000000  10000.000000  10000.000000  10000.000000\n",
       "mean       3.777500      0.876800      1.409300      0.701300\n",
       "std        1.214636      2.067861      2.336647      1.907942\n",
       "min        1.000000      0.000000      0.000000      0.000000\n",
       "25%        3.000000      0.000000      0.000000      0.000000\n",
       "50%        4.000000      0.000000      1.000000      0.000000\n",
       "75%        5.000000      1.000000      2.000000      1.000000\n",
       "max        5.000000     77.000000     76.000000     57.000000"
      ]
     },
     "execution_count": 6,
     "metadata": {},
     "output_type": "execute_result"
    }
   ],
   "source": [
    "yelp.describe()"
   ]
  },
  {
   "cell_type": "code",
   "execution_count": 7,
   "id": "f45c4401",
   "metadata": {
    "execution": {
     "iopub.execute_input": "2022-09-19T19:22:57.631639Z",
     "iopub.status.busy": "2022-09-19T19:22:57.631241Z",
     "iopub.status.idle": "2022-09-19T19:22:57.644466Z",
     "shell.execute_reply": "2022-09-19T19:22:57.642946Z"
    },
    "papermill": {
     "duration": 0.024001,
     "end_time": "2022-09-19T19:22:57.646826",
     "exception": false,
     "start_time": "2022-09-19T19:22:57.622825",
     "status": "completed"
    },
    "tags": []
   },
   "outputs": [
    {
     "data": {
      "text/plain": [
       "0     889\n",
       "1    1345\n",
       "2      76\n",
       "3     419\n",
       "4     469\n",
       "Name: text length, dtype: int64"
      ]
     },
     "execution_count": 7,
     "metadata": {},
     "output_type": "execute_result"
    }
   ],
   "source": [
    "yelp['text length']=yelp['text'].apply(len)\n",
    "yelp['text length'].head()"
   ]
  },
  {
   "cell_type": "markdown",
   "id": "659f8c27",
   "metadata": {
    "papermill": {
     "duration": 0.007597,
     "end_time": "2022-09-19T19:22:57.662319",
     "exception": false,
     "start_time": "2022-09-19T19:22:57.654722",
     "status": "completed"
    },
    "tags": []
   },
   "source": [
    "# Análise exploratória de dados"
   ]
  },
  {
   "cell_type": "code",
   "execution_count": 8,
   "id": "a1246ade",
   "metadata": {
    "execution": {
     "iopub.execute_input": "2022-09-19T19:22:57.679683Z",
     "iopub.status.busy": "2022-09-19T19:22:57.679352Z",
     "iopub.status.idle": "2022-09-19T19:22:58.508288Z",
     "shell.execute_reply": "2022-09-19T19:22:58.507305Z"
    },
    "papermill": {
     "duration": 0.840305,
     "end_time": "2022-09-19T19:22:58.510513",
     "exception": false,
     "start_time": "2022-09-19T19:22:57.670208",
     "status": "completed"
    },
    "tags": []
   },
   "outputs": [
    {
     "data": {
      "text/plain": [
       "<seaborn.axisgrid.FacetGrid at 0x7fd8cd3edd90>"
      ]
     },
     "execution_count": 8,
     "metadata": {},
     "output_type": "execute_result"
    },
    {
     "data": {
      "image/png": "[encoded data removed]",
      "text/plain": [
       "<Figure size 1080x216 with 5 Axes>"
      ]
     },
     "metadata": {
      "needs_background": "light"
     },
     "output_type": "display_data"
    }
   ],
   "source": [
    "g = sns.FacetGrid(data=yelp, col='stars')\n",
    "g.map(plt.hist,'text length', bins= 20)"
   ]
  },
  {
   "cell_type": "code",
   "execution_count": 9,
   "id": "37b86fb6",
   "metadata": {
    "execution": {
     "iopub.execute_input": "2022-09-19T19:22:58.528721Z",
     "iopub.status.busy": "2022-09-19T19:22:58.527747Z",
     "iopub.status.idle": "2022-09-19T19:22:58.730686Z",
     "shell.execute_reply": "2022-09-19T19:22:58.729050Z"
    },
    "papermill": {
     "duration": 0.214875,
     "end_time": "2022-09-19T19:22:58.733344",
     "exception": false,
     "start_time": "2022-09-19T19:22:58.518469",
     "status": "completed"
    },
    "tags": []
   },
   "outputs": [
    {
     "data": {
      "text/plain": [
       "<AxesSubplot:xlabel='stars', ylabel='text length'>"
      ]
     },
     "execution_count": 9,
     "metadata": {},
     "output_type": "execute_result"
    },
    {
     "data": {
      "image/png": "[encoded data removed]",
      "text/plain": [
       "<Figure size 432x288 with 1 Axes>"
      ]
     },
     "metadata": {
      "needs_background": "light"
     },
     "output_type": "display_data"
    }
   ],
   "source": [
    "sns.boxplot(x='stars',y='text length', data=yelp)"
   ]
  },
  {
   "cell_type": "code",
   "execution_count": 10,
   "id": "a0e84d10",
   "metadata": {
    "execution": {
     "iopub.execute_input": "2022-09-19T19:22:58.752466Z",
     "iopub.status.busy": "2022-09-19T19:22:58.752111Z",
     "iopub.status.idle": "2022-09-19T19:22:58.900627Z",
     "shell.execute_reply": "2022-09-19T19:22:58.899477Z"
    },
    "papermill": {
     "duration": 0.161157,
     "end_time": "2022-09-19T19:22:58.903305",
     "exception": false,
     "start_time": "2022-09-19T19:22:58.742148",
     "status": "completed"
    },
    "tags": []
   },
   "outputs": [
    {
     "data": {
      "text/plain": [
       "<AxesSubplot:xlabel='stars', ylabel='count'>"
      ]
     },
     "execution_count": 10,
     "metadata": {},
     "output_type": "execute_result"
    },
    {
     "data": {
      "image/png": "[encoded data removed]",
      "text/plain": [
       "<Figure size 432x288 with 1 Axes>"
      ]
     },
     "metadata": {
      "needs_background": "light"
     },
     "output_type": "display_data"
    }
   ],
   "source": [
    "sns.countplot(x='stars',data=yelp, palette='rainbow')"
   ]
  },
  {
   "cell_type": "code",
   "execution_count": 11,
   "id": "f59eed98",
   "metadata": {
    "execution": {
     "iopub.execute_input": "2022-09-19T19:22:58.926905Z",
     "iopub.status.busy": "2022-09-19T19:22:58.926569Z",
     "iopub.status.idle": "2022-09-19T19:22:58.944215Z",
     "shell.execute_reply": "2022-09-19T19:22:58.943302Z"
    },
    "papermill": {
     "duration": 0.030846,
     "end_time": "2022-09-19T19:22:58.945921",
     "exception": false,
     "start_time": "2022-09-19T19:22:58.915075",
     "status": "completed"
    },
    "tags": []
   },
   "outputs": [
    {
     "data": {
      "text/html": [
       "<div>\n",
       "<style scoped>\n",
       "    .dataframe tbody tr th:only-of-type {\n",
       "        vertical-align: middle;\n",
       "    }\n",
       "\n",
       "    .dataframe tbody tr th {\n",
       "        vertical-align: top;\n",
       "    }\n",
       "\n",
       "    .dataframe thead th {\n",
       "        text-align: right;\n",
       "    }\n",
       "</style>\n",
       "<table border=\"1\" class=\"dataframe\">\n",
       "  <thead>\n",
       "    <tr style=\"text-align: right;\">\n",
       "      <th></th>\n",
       "      <th>cool</th>\n",
       "      <th>useful</th>\n",
       "      <th>funny</th>\n",
       "      <th>text length</th>\n",
       "    </tr>\n",
       "    <tr>\n",
       "      <th>stars</th>\n",
       "      <th></th>\n",
       "      <th></th>\n",
       "      <th></th>\n",
       "      <th></th>\n",
       "    </tr>\n",
       "  </thead>\n",
       "  <tbody>\n",
       "    <tr>\n",
       "      <th>1</th>\n",
       "      <td>0.576769</td>\n",
       "      <td>1.604806</td>\n",
       "      <td>1.056075</td>\n",
       "      <td>826.515354</td>\n",
       "    </tr>\n",
       "    <tr>\n",
       "      <th>2</th>\n",
       "      <td>0.719525</td>\n",
       "      <td>1.563107</td>\n",
       "      <td>0.875944</td>\n",
       "      <td>842.256742</td>\n",
       "    </tr>\n",
       "    <tr>\n",
       "      <th>3</th>\n",
       "      <td>0.788501</td>\n",
       "      <td>1.306639</td>\n",
       "      <td>0.694730</td>\n",
       "      <td>758.498289</td>\n",
       "    </tr>\n",
       "    <tr>\n",
       "      <th>4</th>\n",
       "      <td>0.954623</td>\n",
       "      <td>1.395916</td>\n",
       "      <td>0.670448</td>\n",
       "      <td>712.923142</td>\n",
       "    </tr>\n",
       "    <tr>\n",
       "      <th>5</th>\n",
       "      <td>0.944261</td>\n",
       "      <td>1.381780</td>\n",
       "      <td>0.608631</td>\n",
       "      <td>624.999101</td>\n",
       "    </tr>\n",
       "  </tbody>\n",
       "</table>\n",
       "</div>"
      ],
      "text/plain": [
       "           cool    useful     funny  text length\n",
       "stars                                           \n",
       "1      0.576769  1.604806  1.056075   826.515354\n",
       "2      0.719525  1.563107  0.875944   842.256742\n",
       "3      0.788501  1.306639  0.694730   758.498289\n",
       "4      0.954623  1.395916  0.670448   712.923142\n",
       "5      0.944261  1.381780  0.608631   624.999101"
      ]
     },
     "execution_count": 11,
     "metadata": {},
     "output_type": "execute_result"
    }
   ],
   "source": [
    "stars = yelp.groupby('stars').mean()\n",
    "stars"
   ]
  },
  {
   "cell_type": "code",
   "execution_count": 12,
   "id": "2595e8f5",
   "metadata": {
    "execution": {
     "iopub.execute_input": "2022-09-19T19:22:58.964780Z",
     "iopub.status.busy": "2022-09-19T19:22:58.964460Z",
     "iopub.status.idle": "2022-09-19T19:22:58.976652Z",
     "shell.execute_reply": "2022-09-19T19:22:58.974986Z"
    },
    "papermill": {
     "duration": 0.024928,
     "end_time": "2022-09-19T19:22:58.979398",
     "exception": false,
     "start_time": "2022-09-19T19:22:58.954470",
     "status": "completed"
    },
    "tags": []
   },
   "outputs": [
    {
     "data": {
      "text/html": [
       "<div>\n",
       "<style scoped>\n",
       "    .dataframe tbody tr th:only-of-type {\n",
       "        vertical-align: middle;\n",
       "    }\n",
       "\n",
       "    .dataframe tbody tr th {\n",
       "        vertical-align: top;\n",
       "    }\n",
       "\n",
       "    .dataframe thead th {\n",
       "        text-align: right;\n",
       "    }\n",
       "</style>\n",
       "<table border=\"1\" class=\"dataframe\">\n",
       "  <thead>\n",
       "    <tr style=\"text-align: right;\">\n",
       "      <th></th>\n",
       "      <th>cool</th>\n",
       "      <th>useful</th>\n",
       "      <th>funny</th>\n",
       "      <th>text length</th>\n",
       "    </tr>\n",
       "  </thead>\n",
       "  <tbody>\n",
       "    <tr>\n",
       "      <th>cool</th>\n",
       "      <td>1.000000</td>\n",
       "      <td>-0.743329</td>\n",
       "      <td>-0.944939</td>\n",
       "      <td>-0.857664</td>\n",
       "    </tr>\n",
       "    <tr>\n",
       "      <th>useful</th>\n",
       "      <td>-0.743329</td>\n",
       "      <td>1.000000</td>\n",
       "      <td>0.894506</td>\n",
       "      <td>0.699881</td>\n",
       "    </tr>\n",
       "    <tr>\n",
       "      <th>funny</th>\n",
       "      <td>-0.944939</td>\n",
       "      <td>0.894506</td>\n",
       "      <td>1.000000</td>\n",
       "      <td>0.843461</td>\n",
       "    </tr>\n",
       "    <tr>\n",
       "      <th>text length</th>\n",
       "      <td>-0.857664</td>\n",
       "      <td>0.699881</td>\n",
       "      <td>0.843461</td>\n",
       "      <td>1.000000</td>\n",
       "    </tr>\n",
       "  </tbody>\n",
       "</table>\n",
       "</div>"
      ],
      "text/plain": [
       "                 cool    useful     funny  text length\n",
       "cool         1.000000 -0.743329 -0.944939    -0.857664\n",
       "useful      -0.743329  1.000000  0.894506     0.699881\n",
       "funny       -0.944939  0.894506  1.000000     0.843461\n",
       "text length -0.857664  0.699881  0.843461     1.000000"
      ]
     },
     "execution_count": 12,
     "metadata": {},
     "output_type": "execute_result"
    }
   ],
   "source": [
    "stars.corr()"
   ]
  },
  {
   "cell_type": "code",
   "execution_count": 13,
   "id": "cc0d80e7",
   "metadata": {
    "execution": {
     "iopub.execute_input": "2022-09-19T19:22:58.999791Z",
     "iopub.status.busy": "2022-09-19T19:22:58.999462Z",
     "iopub.status.idle": "2022-09-19T19:22:59.264187Z",
     "shell.execute_reply": "2022-09-19T19:22:59.262180Z"
    },
    "papermill": {
     "duration": 0.278244,
     "end_time": "2022-09-19T19:22:59.267026",
     "exception": false,
     "start_time": "2022-09-19T19:22:58.988782",
     "status": "completed"
    },
    "tags": []
   },
   "outputs": [
    {
     "data": {
      "text/plain": [
       "<AxesSubplot:>"
      ]
     },
     "execution_count": 13,
     "metadata": {},
     "output_type": "execute_result"
    },
    {
     "data": {
      "image/png": "[encoded data removed]",
      "text/plain": [
       "<Figure size 432x288 with 2 Axes>"
      ]
     },
     "metadata": {
      "needs_background": "light"
     },
     "output_type": "display_data"
    }
   ],
   "source": [
    "sns.heatmap(stars.corr(), cmap = 'coolwarm', annot=True)"
   ]
  },
  {
   "cell_type": "markdown",
   "id": "ee0fcdf8",
   "metadata": {
    "papermill": {
     "duration": 0.008848,
     "end_time": "2022-09-19T19:22:59.285422",
     "exception": false,
     "start_time": "2022-09-19T19:22:59.276574",
     "status": "completed"
    },
    "tags": []
   },
   "source": [
    "# Classificação PLN"
   ]
  },
  {
   "cell_type": "code",
   "execution_count": 14,
   "id": "34d6b700",
   "metadata": {
    "execution": {
     "iopub.execute_input": "2022-09-19T19:22:59.305841Z",
     "iopub.status.busy": "2022-09-19T19:22:59.305500Z",
     "iopub.status.idle": "2022-09-19T19:22:59.314434Z",
     "shell.execute_reply": "2022-09-19T19:22:59.312622Z"
    },
    "papermill": {
     "duration": 0.022482,
     "end_time": "2022-09-19T19:22:59.316871",
     "exception": false,
     "start_time": "2022-09-19T19:22:59.294389",
     "status": "completed"
    },
    "tags": []
   },
   "outputs": [],
   "source": [
    "yelp_class = yelp[(yelp.stars==1) | (yelp.stars==5) ]"
   ]
  },
  {
   "cell_type": "code",
   "execution_count": 15,
   "id": "bf8a3e97",
   "metadata": {
    "execution": {
     "iopub.execute_input": "2022-09-19T19:22:59.339396Z",
     "iopub.status.busy": "2022-09-19T19:22:59.338994Z",
     "iopub.status.idle": "2022-09-19T19:22:59.347561Z",
     "shell.execute_reply": "2022-09-19T19:22:59.346488Z"
    },
    "papermill": {
     "duration": 0.022093,
     "end_time": "2022-09-19T19:22:59.349283",
     "exception": false,
     "start_time": "2022-09-19T19:22:59.327190",
     "status": "completed"
    },
    "tags": []
   },
   "outputs": [
    {
     "data": {
      "text/plain": [
       "5    3337\n",
       "1     749\n",
       "Name: stars, dtype: int64"
      ]
     },
     "execution_count": 15,
     "metadata": {},
     "output_type": "execute_result"
    }
   ],
   "source": [
    "yelp_class.stars.value_counts()"
   ]
  },
  {
   "cell_type": "code",
   "execution_count": 16,
   "id": "7c4fef17",
   "metadata": {
    "execution": {
     "iopub.execute_input": "2022-09-19T19:22:59.369885Z",
     "iopub.status.busy": "2022-09-19T19:22:59.369466Z",
     "iopub.status.idle": "2022-09-19T19:22:59.375275Z",
     "shell.execute_reply": "2022-09-19T19:22:59.373786Z"
    },
    "papermill": {
     "duration": 0.018824,
     "end_time": "2022-09-19T19:22:59.377655",
     "exception": false,
     "start_time": "2022-09-19T19:22:59.358831",
     "status": "completed"
    },
    "tags": []
   },
   "outputs": [],
   "source": [
    "X=yelp['text']\n",
    "y=yelp['stars']"
   ]
  },
  {
   "cell_type": "code",
   "execution_count": 17,
   "id": "52de83ed",
   "metadata": {
    "execution": {
     "iopub.execute_input": "2022-09-19T19:22:59.398252Z",
     "iopub.status.busy": "2022-09-19T19:22:59.397904Z",
     "iopub.status.idle": "2022-09-19T19:23:00.550705Z",
     "shell.execute_reply": "2022-09-19T19:23:00.549342Z"
    },
    "papermill": {
     "duration": 1.166052,
     "end_time": "2022-09-19T19:23:00.553252",
     "exception": false,
     "start_time": "2022-09-19T19:22:59.387200",
     "status": "completed"
    },
    "tags": []
   },
   "outputs": [],
   "source": [
    "from sklearn.feature_extraction.text import CountVectorizer\n",
    "cv=CountVectorizer()\n",
    "X = cv.fit_transform(X)"
   ]
  },
  {
   "cell_type": "markdown",
   "id": "599fa33d",
   "metadata": {
    "papermill": {
     "duration": 0.008941,
     "end_time": "2022-09-19T19:23:00.571364",
     "exception": false,
     "start_time": "2022-09-19T19:23:00.562423",
     "status": "completed"
    },
    "tags": []
   },
   "source": [
    "# Treino/Teste"
   ]
  },
  {
   "cell_type": "code",
   "execution_count": 18,
   "id": "16d2f0c7",
   "metadata": {
    "execution": {
     "iopub.execute_input": "2022-09-19T19:23:00.592277Z",
     "iopub.status.busy": "2022-09-19T19:23:00.591940Z",
     "iopub.status.idle": "2022-09-19T19:23:00.671729Z",
     "shell.execute_reply": "2022-09-19T19:23:00.669908Z"
    },
    "papermill": {
     "duration": 0.093253,
     "end_time": "2022-09-19T19:23:00.674757",
     "exception": false,
     "start_time": "2022-09-19T19:23:00.581504",
     "status": "completed"
    },
    "tags": []
   },
   "outputs": [],
   "source": [
    "from sklearn.model_selection import train_test_split\n",
    "X_train, X_test, y_train, y_test = train_test_split(X, y, test_size=0.3, random_state=101)"
   ]
  },
  {
   "cell_type": "markdown",
   "id": "b7733407",
   "metadata": {
    "papermill": {
     "duration": 0.008755,
     "end_time": "2022-09-19T19:23:00.693219",
     "exception": false,
     "start_time": "2022-09-19T19:23:00.684464",
     "status": "completed"
    },
    "tags": []
   },
   "source": [
    "# Treiando o modelo"
   ]
  },
  {
   "cell_type": "code",
   "execution_count": 19,
   "id": "9bdf68fa",
   "metadata": {
    "execution": {
     "iopub.execute_input": "2022-09-19T19:23:00.713076Z",
     "iopub.status.busy": "2022-09-19T19:23:00.712740Z",
     "iopub.status.idle": "2022-09-19T19:23:00.737600Z",
     "shell.execute_reply": "2022-09-19T19:23:00.735948Z"
    },
    "papermill": {
     "duration": 0.038221,
     "end_time": "2022-09-19T19:23:00.740623",
     "exception": false,
     "start_time": "2022-09-19T19:23:00.702402",
     "status": "completed"
    },
    "tags": []
   },
   "outputs": [
    {
     "data": {
      "text/plain": [
       "MultinomialNB()"
      ]
     },
     "execution_count": 19,
     "metadata": {},
     "output_type": "execute_result"
    }
   ],
   "source": [
    "from sklearn.naive_bayes import MultinomialNB\n",
    "nb = MultinomialNB()\n",
    "nb.fit(X_train,y_train)"
   ]
  },
  {
   "cell_type": "markdown",
   "id": "6b64ff56",
   "metadata": {
    "papermill": {
     "duration": 0.009161,
     "end_time": "2022-09-19T19:23:00.759707",
     "exception": false,
     "start_time": "2022-09-19T19:23:00.750546",
     "status": "completed"
    },
    "tags": []
   },
   "source": [
    "# Predição e avaliação"
   ]
  },
  {
   "cell_type": "code",
   "execution_count": 20,
   "id": "d490d82c",
   "metadata": {
    "execution": {
     "iopub.execute_input": "2022-09-19T19:23:00.779912Z",
     "iopub.status.busy": "2022-09-19T19:23:00.779524Z",
     "iopub.status.idle": "2022-09-19T19:23:00.787895Z",
     "shell.execute_reply": "2022-09-19T19:23:00.786791Z"
    },
    "papermill": {
     "duration": 0.021312,
     "end_time": "2022-09-19T19:23:00.790488",
     "exception": false,
     "start_time": "2022-09-19T19:23:00.769176",
     "status": "completed"
    },
    "tags": []
   },
   "outputs": [],
   "source": [
    "pred = nb.predict(X_test)"
   ]
  },
  {
   "cell_type": "code",
   "execution_count": 21,
   "id": "bef5a0d5",
   "metadata": {
    "execution": {
     "iopub.execute_input": "2022-09-19T19:23:00.810161Z",
     "iopub.status.busy": "2022-09-19T19:23:00.809801Z",
     "iopub.status.idle": "2022-09-19T19:23:00.828653Z",
     "shell.execute_reply": "2022-09-19T19:23:00.826662Z"
    },
    "papermill": {
     "duration": 0.031469,
     "end_time": "2022-09-19T19:23:00.831275",
     "exception": false,
     "start_time": "2022-09-19T19:23:00.799806",
     "status": "completed"
    },
    "tags": []
   },
   "outputs": [
    {
     "name": "stdout",
     "output_type": "stream",
     "text": [
      "[[ 57  35  12  79  37]\n",
      " [ 12  20  33 180  28]\n",
      " [  6   8  36 350  43]\n",
      " [  6   4  21 775 258]\n",
      " [  5   5   9 446 535]]\n",
      "\n",
      "\n",
      "              precision    recall  f1-score   support\n",
      "\n",
      "           1       0.66      0.26      0.37       220\n",
      "           2       0.28      0.07      0.12       273\n",
      "           3       0.32      0.08      0.13       443\n",
      "           4       0.42      0.73      0.54      1064\n",
      "           5       0.59      0.54      0.56      1000\n",
      "\n",
      "    accuracy                           0.47      3000\n",
      "   macro avg       0.46      0.34      0.34      3000\n",
      "weighted avg       0.47      0.47      0.43      3000\n",
      "\n"
     ]
    }
   ],
   "source": [
    "from sklearn.metrics import confusion_matrix,classification_report\n",
    "print(confusion_matrix(y_test,pred))\n",
    "print('\\n')\n",
    "print(classification_report(y_test,pred))"
   ]
  },
  {
   "cell_type": "markdown",
   "id": "d4ed3ce9",
   "metadata": {
    "papermill": {
     "duration": 0.009031,
     "end_time": "2022-09-19T19:23:00.850072",
     "exception": false,
     "start_time": "2022-09-19T19:23:00.841041",
     "status": "completed"
    },
    "tags": []
   },
   "source": [
    "# Usando o processamento de texto"
   ]
  },
  {
   "cell_type": "code",
   "execution_count": 22,
   "id": "58ea806e",
   "metadata": {
    "execution": {
     "iopub.execute_input": "2022-09-19T19:23:00.870986Z",
     "iopub.status.busy": "2022-09-19T19:23:00.870632Z",
     "iopub.status.idle": "2022-09-19T19:23:00.877072Z",
     "shell.execute_reply": "2022-09-19T19:23:00.875950Z"
    },
    "papermill": {
     "duration": 0.019735,
     "end_time": "2022-09-19T19:23:00.879382",
     "exception": false,
     "start_time": "2022-09-19T19:23:00.859647",
     "status": "completed"
    },
    "tags": []
   },
   "outputs": [],
   "source": [
    "from sklearn.feature_extraction.text import TfidfTransformer\n",
    "from sklearn.pipeline import Pipeline"
   ]
  },
  {
   "cell_type": "code",
   "execution_count": 23,
   "id": "215968cc",
   "metadata": {
    "execution": {
     "iopub.execute_input": "2022-09-19T19:23:00.899939Z",
     "iopub.status.busy": "2022-09-19T19:23:00.899557Z",
     "iopub.status.idle": "2022-09-19T19:23:00.905937Z",
     "shell.execute_reply": "2022-09-19T19:23:00.904652Z"
    },
    "papermill": {
     "duration": 0.019342,
     "end_time": "2022-09-19T19:23:00.908436",
     "exception": false,
     "start_time": "2022-09-19T19:23:00.889094",
     "status": "completed"
    },
    "tags": []
   },
   "outputs": [],
   "source": [
    "pipeline=Pipeline([\n",
    "    ('bow', CountVectorizer()),\n",
    "    ('tfidef',TfidfTransformer()),\n",
    "    ('classifier', MultinomialNB())\n",
    "])"
   ]
  },
  {
   "cell_type": "markdown",
   "id": "782aabf0",
   "metadata": {
    "papermill": {
     "duration": 0.010391,
     "end_time": "2022-09-19T19:23:00.928741",
     "exception": false,
     "start_time": "2022-09-19T19:23:00.918350",
     "status": "completed"
    },
    "tags": []
   },
   "source": [
    "# Treino/Teste"
   ]
  },
  {
   "cell_type": "code",
   "execution_count": 24,
   "id": "8de35cc7",
   "metadata": {
    "execution": {
     "iopub.execute_input": "2022-09-19T19:23:00.950485Z",
     "iopub.status.busy": "2022-09-19T19:23:00.949909Z",
     "iopub.status.idle": "2022-09-19T19:23:00.956701Z",
     "shell.execute_reply": "2022-09-19T19:23:00.955594Z"
    },
    "papermill": {
     "duration": 0.020021,
     "end_time": "2022-09-19T19:23:00.958478",
     "exception": false,
     "start_time": "2022-09-19T19:23:00.938457",
     "status": "completed"
    },
    "tags": []
   },
   "outputs": [],
   "source": [
    "X=yelp_class['text']\n",
    "y=yelp_class['stars']\n",
    "X_train, X_test, y_train, y_test = train_test_split(X, y, test_size=0.3, random_state=101)"
   ]
  },
  {
   "cell_type": "code",
   "execution_count": 25,
   "id": "656a761b",
   "metadata": {
    "execution": {
     "iopub.execute_input": "2022-09-19T19:23:00.979168Z",
     "iopub.status.busy": "2022-09-19T19:23:00.978806Z",
     "iopub.status.idle": "2022-09-19T19:23:01.281632Z",
     "shell.execute_reply": "2022-09-19T19:23:01.280253Z"
    },
    "papermill": {
     "duration": 0.315567,
     "end_time": "2022-09-19T19:23:01.284083",
     "exception": false,
     "start_time": "2022-09-19T19:23:00.968516",
     "status": "completed"
    },
    "tags": []
   },
   "outputs": [
    {
     "data": {
      "text/plain": [
       "Pipeline(steps=[('bow', CountVectorizer()), ('tfidef', TfidfTransformer()),\n",
       "                ('classifier', MultinomialNB())])"
      ]
     },
     "execution_count": 25,
     "metadata": {},
     "output_type": "execute_result"
    }
   ],
   "source": [
    "pipeline.fit(X_train,y_train)"
   ]
  },
  {
   "cell_type": "markdown",
   "id": "b93fc2cb",
   "metadata": {
    "papermill": {
     "duration": 0.008844,
     "end_time": "2022-09-19T19:23:01.302681",
     "exception": false,
     "start_time": "2022-09-19T19:23:01.293837",
     "status": "completed"
    },
    "tags": []
   },
   "source": [
    "# Predições e Avaliações"
   ]
  },
  {
   "cell_type": "code",
   "execution_count": 26,
   "id": "21ec8075",
   "metadata": {
    "execution": {
     "iopub.execute_input": "2022-09-19T19:23:01.323367Z",
     "iopub.status.busy": "2022-09-19T19:23:01.322767Z",
     "iopub.status.idle": "2022-09-19T19:23:01.445644Z",
     "shell.execute_reply": "2022-09-19T19:23:01.443997Z"
    },
    "papermill": {
     "duration": 0.136368,
     "end_time": "2022-09-19T19:23:01.448510",
     "exception": false,
     "start_time": "2022-09-19T19:23:01.312142",
     "status": "completed"
    },
    "tags": []
   },
   "outputs": [
    {
     "name": "stdout",
     "output_type": "stream",
     "text": [
      "[[  0 228]\n",
      " [  0 998]]\n",
      "              precision    recall  f1-score   support\n",
      "\n",
      "           1       0.00      0.00      0.00       228\n",
      "           5       0.81      1.00      0.90       998\n",
      "\n",
      "    accuracy                           0.81      1226\n",
      "   macro avg       0.41      0.50      0.45      1226\n",
      "weighted avg       0.66      0.81      0.73      1226\n",
      "\n"
     ]
    },
    {
     "name": "stderr",
     "output_type": "stream",
     "text": [
      "/opt/conda/lib/python3.7/site-packages/sklearn/metrics/_classification.py:1318: UndefinedMetricWarning: Precision and F-score are ill-defined and being set to 0.0 in labels with no predicted samples. Use `zero_division` parameter to control this behavior.\n",
      "  _warn_prf(average, modifier, msg_start, len(result))\n",
      "/opt/conda/lib/python3.7/site-packages/sklearn/metrics/_classification.py:1318: UndefinedMetricWarning: Precision and F-score are ill-defined and being set to 0.0 in labels with no predicted samples. Use `zero_division` parameter to control this behavior.\n",
      "  _warn_prf(average, modifier, msg_start, len(result))\n",
      "/opt/conda/lib/python3.7/site-packages/sklearn/metrics/_classification.py:1318: UndefinedMetricWarning: Precision and F-score are ill-defined and being set to 0.0 in labels with no predicted samples. Use `zero_division` parameter to control this behavior.\n",
      "  _warn_prf(average, modifier, msg_start, len(result))\n"
     ]
    }
   ],
   "source": [
    "pred = pipeline.predict(X_test)\n",
    "print(confusion_matrix(y_test,pred))\n",
    "print(classification_report(y_test,pred))"
   ]
  },
  {
   "cell_type": "code",
   "execution_count": null,
   "id": "afe1b282",
   "metadata": {
    "papermill": {
     "duration": 0.009336,
     "end_time": "2022-09-19T19:23:01.468445",
     "exception": false,
     "start_time": "2022-09-19T19:23:01.459109",
     "status": "completed"
    },
    "tags": []
   },
   "outputs": [],
   "source": []
  }
 ],
 "metadata": {
  "kernelspec": {
   "display_name": "Python 3",
   "language": "python",
   "name": "python3"
  },
  "language_info": {
   "codemirror_mode": {
    "name": "ipython",
    "version": 3
   },
   "file_extension": ".py",
   "mimetype": "text/x-python",
   "name": "python",
   "nbconvert_exporter": "python",
   "pygments_lexer": "ipython3",
   "version": "3.7.12"
  },
  "papermill": {
   "default_parameters": {},
   "duration": 15.487516,
   "end_time": "2022-09-19T19:23:02.301217",
   "environment_variables": {},
   "exception": null,
   "input_path": "__notebook__.ipynb",
   "output_path": "__notebook__.ipynb",
   "parameters": {},
   "start_time": "2022-09-19T19:22:46.813701",
   "version": "2.3.4"
  }
 },
 "nbformat": 4,
 "nbformat_minor": 5
}
